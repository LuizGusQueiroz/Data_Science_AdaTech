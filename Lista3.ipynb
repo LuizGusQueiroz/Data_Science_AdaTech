{
  "nbformat": 4,
  "nbformat_minor": 0,
  "metadata": {
    "colab": {
      "provenance": [],
      "authorship_tag": "ABX9TyNr5/yahCpXDVk0pRLB6C1l"
    },
    "kernelspec": {
      "name": "python3",
      "display_name": "Python 3"
    },
    "language_info": {
      "name": "python"
    }
  },
  "cells": [
    {
      "cell_type": "markdown",
      "source": [
        "# Paridade de números por funções lambda"
      ],
      "metadata": {
        "id": "6VEG4-HD6EBx"
      }
    },
    {
      "cell_type": "markdown",
      "source": [
        "Em programação, temos que pensar não apenas na implementação do código propriamente dita para execução correta da tarefa desejada, como também na melhor forma de realizar esta implementação. Com isso, paradigmas de programação foram criados para auxiliar o programador a pensar diferente.\n",
        "\n",
        "Um desses paradigmas é a programação funcional, cujo objetivo é aumentar o determinismo do programa de forma que, caso o programa seja escalável e se torne muito grande, os desenvolvedores não percam o controle do código. Uma forma de fazer programação funcional é por meio de funções lambdas, também conhecidas como \"funções anônimas\", tendo esse nome porque não precisam ser declaradas com um nome.\n",
        "\n",
        "Sabendo disso, crie uma função ```div2()``` que recebe uma lista numérica e utiliza uma função ```lambda``` para retornar uma lista apenas com elementos da lista original que sejam divisíveis por 2.\n",
        "\n",
        "OBS: em um cenário real, a função ```div2()``` seria utilizada para outras funcionalidades também além da utilização da ```lambda```, de forma a melhorar o determinismo do código."
      ],
      "metadata": {
        "id": "DkT75WEE6ENn"
      }
    },
    {
      "cell_type": "markdown",
      "source": [
        "#### Resposta"
      ],
      "metadata": {
        "id": "nrz4OyxY6OP2"
      }
    },
    {
      "cell_type": "code",
      "execution_count": null,
      "metadata": {
        "id": "7TU-YFYo5_6g"
      },
      "outputs": [],
      "source": [
        "def div2(lista:list[float]) -> list[int]:\n",
        "\n",
        "  lista_filtrada = list( filter(lambda x: x%2==0, lista) )\n",
        "\n",
        "  return lista_filtrada"
      ]
    },
    {
      "cell_type": "markdown",
      "source": [
        "#### Testes"
      ],
      "metadata": {
        "id": "i8e_u7jh6P7X"
      }
    },
    {
      "cell_type": "code",
      "source": [
        "input1 = [40, 25, 38, 10, 14, 6, 21, 6]\n",
        "\n",
        "div2(input1)"
      ],
      "metadata": {
        "colab": {
          "base_uri": "https://localhost:8080/"
        },
        "id": "wz0UEhAB72H_",
        "outputId": "a9389a6a-c578-45e4-b8bd-2d63315318f1"
      },
      "execution_count": null,
      "outputs": [
        {
          "output_type": "execute_result",
          "data": {
            "text/plain": [
              "[40, 38, 10, 14, 6, 6]"
            ]
          },
          "metadata": {},
          "execution_count": 5
        }
      ]
    },
    {
      "cell_type": "code",
      "source": [
        "input2 = [12, 34, 50, 1, 24, 18, 3, 4]\n",
        "\n",
        "div2(input2)"
      ],
      "metadata": {
        "colab": {
          "base_uri": "https://localhost:8080/"
        },
        "id": "IRe2XiVC71_5",
        "outputId": "2f1f58cd-235e-4ede-f889-eef7d8c9c3e6"
      },
      "execution_count": null,
      "outputs": [
        {
          "output_type": "execute_result",
          "data": {
            "text/plain": [
              "[12, 34, 50, 24, 18, 4]"
            ]
          },
          "metadata": {},
          "execution_count": 6
        }
      ]
    },
    {
      "cell_type": "code",
      "source": [
        "input3 = [30, 35, 31, 0, 29, 24, 9, 32]\n",
        "\n",
        "div2(input3)"
      ],
      "metadata": {
        "colab": {
          "base_uri": "https://localhost:8080/"
        },
        "id": "zUHA9Xck6RlQ",
        "outputId": "2742e567-8d1c-4246-dfa5-75486aab9319"
      },
      "execution_count": null,
      "outputs": [
        {
          "output_type": "execute_result",
          "data": {
            "text/plain": [
              "[30, 0, 24, 32]"
            ]
          },
          "metadata": {},
          "execution_count": 7
        }
      ]
    },
    {
      "cell_type": "markdown",
      "source": [
        "# Subtraindo elementos usando funções de alta ordem"
      ],
      "metadata": {
        "id": "GXSYJNp08WLo"
      }
    },
    {
      "cell_type": "markdown",
      "source": [
        "Em programação, temos que pensar não apenas na implementação do código propriamente dita para execução correta da tarefa desejada, como também na melhor forma de realizar esta implementação. Com isso, paradigmas de programação foram criados para auxiliar o programador a pensar diferente.\n",
        "\n",
        "Um desses paradigmas é o uso de funções de alta ordem, o que permite que realizemos diversas operações em coleções (listas, tuplas, arrays, etc) sem o uso de loops explicitamente.\n",
        "\n",
        "Um dos usos mais comuns é o uso de funções reduce, responsáveis por acumular uma operação ao longo de uma coleção. Sabendo disso, implemente uma função ```reduceSub()``` que recebe uma lista, e então faz uso do ```reduce``` para realizar a subtração dos números da lista com base no valor inicial ```3```."
      ],
      "metadata": {
        "id": "9UXpVPQO8WaA"
      }
    },
    {
      "cell_type": "markdown",
      "source": [
        "#### Resposta"
      ],
      "metadata": {
        "id": "rvSdA2jn8Y6w"
      }
    },
    {
      "cell_type": "code",
      "source": [
        "from functools import reduce\n",
        "\n",
        "def reduceSub(lista:list[float]) -> float:\n",
        "\n",
        "  resultado = reduce(lambda x, y: x - y, lista, 3)\n",
        "  return resultado"
      ],
      "metadata": {
        "id": "eE-GHold8Z-7"
      },
      "execution_count": null,
      "outputs": []
    },
    {
      "cell_type": "markdown",
      "source": [
        "#### Testes"
      ],
      "metadata": {
        "id": "z6ImOmOp8a8Y"
      }
    },
    {
      "cell_type": "code",
      "source": [
        "input1 = [1, 3, 5, 7, 9]\n",
        "\n",
        "reduceSub(input1)"
      ],
      "metadata": {
        "colab": {
          "base_uri": "https://localhost:8080/"
        },
        "id": "qvGYPBur95to",
        "outputId": "a3cbea67-ae6f-46bb-a15d-6de6e1b75efc"
      },
      "execution_count": null,
      "outputs": [
        {
          "output_type": "execute_result",
          "data": {
            "text/plain": [
              "-22"
            ]
          },
          "metadata": {},
          "execution_count": 12
        }
      ]
    },
    {
      "cell_type": "code",
      "source": [
        "input2 = [9, 10, 10, 3, 1]\n",
        "\n",
        "reduceSub(input2)"
      ],
      "metadata": {
        "colab": {
          "base_uri": "https://localhost:8080/"
        },
        "id": "-e65oi3j95kB",
        "outputId": "be177afb-7635-4461-dfca-e560896e973a"
      },
      "execution_count": null,
      "outputs": [
        {
          "output_type": "execute_result",
          "data": {
            "text/plain": [
              "-30"
            ]
          },
          "metadata": {},
          "execution_count": 13
        }
      ]
    },
    {
      "cell_type": "code",
      "source": [
        "input3 = [6, 2, 4, 10, 3]\n",
        "\n",
        "reduceSub(input3)"
      ],
      "metadata": {
        "colab": {
          "base_uri": "https://localhost:8080/"
        },
        "id": "ed8txglC8cXP",
        "outputId": "aa38a0f2-1e41-479a-d021-325e98d051b3"
      },
      "execution_count": null,
      "outputs": [
        {
          "output_type": "execute_result",
          "data": {
            "text/plain": [
              "-22"
            ]
          },
          "metadata": {},
          "execution_count": 14
        }
      ]
    },
    {
      "cell_type": "markdown",
      "source": [
        "# Utilizando função lambda para calcular quadrado de números"
      ],
      "metadata": {
        "id": "bF5P6sXq-Wn3"
      }
    },
    {
      "cell_type": "markdown",
      "source": [
        "Em programação, temos que pensar não apenas na implementação do código propriamente dita para execução correta da tarefa desejada, como também na melhor forma de realizar esta implementação. Com isso, paradigmas de programação foram criados para auxiliar o programador a pensar diferente.\n",
        "\n",
        "Um desses paradigmas é a programação funcional, cujo objetivo é aumentar o determinismo do programa de forma que, caso o programa seja escalável e se torne muito grande, os desenvolvedores não percam o controle do código. Uma forma de fazer programação funcional é por meio de funções lambdas, também conhecidas como \"funções anônimas\", tendo esse nome porque não precisam ser declaradas com um nome.\n",
        "\n",
        "Sabendo disso, crie uma função ```calcula_quadrado()``` que recebe uma lista e retorna os elementos desta lista ao quadrado, utilizando função ```lambda```.\n",
        "\n",
        "OBS: em um cenário real, a função ```calcula_quadrado()``` seria utilizada para outras funcionalidades também além da utilização da ```lambda```, de forma a melhorar o determinismo do código.\n",
        "\n",
        "OBS2: recomendável uso da função ```map```."
      ],
      "metadata": {
        "id": "IZKXvT5W-WbH"
      }
    },
    {
      "cell_type": "markdown",
      "source": [
        "#### Resposta"
      ],
      "metadata": {
        "id": "c63NKG1V-adg"
      }
    },
    {
      "cell_type": "code",
      "source": [
        "def calcula_quadrado(lista:list[float]) -> list[float]:\n",
        "\n",
        "  nova_lista = list( map(lambda x: x**2, lista) )\n",
        "\n",
        "  return nova_lista"
      ],
      "metadata": {
        "id": "mNhYJi3t-bkr"
      },
      "execution_count": null,
      "outputs": []
    },
    {
      "cell_type": "markdown",
      "source": [
        "#### Testes"
      ],
      "metadata": {
        "id": "RIG9bJ_l-bxw"
      }
    },
    {
      "cell_type": "code",
      "source": [
        "input1 = [3, 49, 29, 8, 31]\n",
        "\n",
        "calcula_quadrado(input1)"
      ],
      "metadata": {
        "colab": {
          "base_uri": "https://localhost:8080/"
        },
        "id": "NTirUO7vA3QB",
        "outputId": "b3f60b92-8733-44c3-e864-a42c1972aa2a"
      },
      "execution_count": null,
      "outputs": [
        {
          "output_type": "execute_result",
          "data": {
            "text/plain": [
              "[9, 2401, 841, 64, 961]"
            ]
          },
          "metadata": {},
          "execution_count": 22
        }
      ]
    },
    {
      "cell_type": "code",
      "source": [
        "input2 = [7, 26, 14, 23, 50]\n",
        "\n",
        "calcula_quadrado(input2)"
      ],
      "metadata": {
        "colab": {
          "base_uri": "https://localhost:8080/"
        },
        "id": "Szf9ZQo7A47H",
        "outputId": "d214b592-283b-455d-9881-260dde05eae2"
      },
      "execution_count": null,
      "outputs": [
        {
          "output_type": "execute_result",
          "data": {
            "text/plain": [
              "[49, 676, 196, 529, 2500]"
            ]
          },
          "metadata": {},
          "execution_count": 25
        }
      ]
    },
    {
      "cell_type": "code",
      "source": [
        "input3 = [33, 30, 12, 36, 30]\n",
        "\n",
        "calcula_quadrado(input3)"
      ],
      "metadata": {
        "colab": {
          "base_uri": "https://localhost:8080/"
        },
        "id": "M3buGWmwAh73",
        "outputId": "0d872870-38e7-437e-ec41-a1a1086c2967"
      },
      "execution_count": null,
      "outputs": [
        {
          "output_type": "execute_result",
          "data": {
            "text/plain": [
              "[1089, 900, 144, 1296, 900]"
            ]
          },
          "metadata": {},
          "execution_count": 24
        }
      ]
    },
    {
      "cell_type": "markdown",
      "source": [
        "# MapReduce para cálculo de soma dos quadrados"
      ],
      "metadata": {
        "id": "XTMXCH5CECPH"
      }
    },
    {
      "cell_type": "markdown",
      "source": [
        "Em programação, temos que pensar não apenas na implementação do código propriamente dita para execução correta da tarefa desejada, como também na melhor forma de realizar esta implementação. Com isso, paradigmas de programação foram criados para auxiliar o programador a pensar diferente.\n",
        "\n",
        "Um desses paradigmas é o uso de funções de alta ordem, o que permite que realizemos diversas operações em coleções (listas, tuplas, arrays, etc) sem o uso de loops explicitamente.\n",
        "\n",
        "Um dos usos mais comuns é o uso de funções ```reduce```\n",
        ", responsáveis por acumular uma operação ao longo de uma coleção. Essa função é muito utilizada principalmente em ambientes big data juntamente com a função ```map```.\n",
        "\n",
        "Sabendo disso, crie uma função ```ger_reduce()``` que recebe uma lista numérica, e retorna a soma dos quadrados destes números.\n",
        "\n",
        "Obs.: lembre-se que, em Python, devemos importar a função ```reduce``` do módulo ```functools```!"
      ],
      "metadata": {
        "id": "JRp_ksvdECgt"
      }
    },
    {
      "cell_type": "markdown",
      "source": [
        "#### Resposta"
      ],
      "metadata": {
        "id": "LIsuRHc_EFh-"
      }
    },
    {
      "cell_type": "code",
      "source": [
        "from functools import reduce\n",
        "\n",
        "def ger_reduce(lista:list[float]) -> float:\n",
        "  soma = reduce( lambda x, y: x + y, map(lambda x: x**2, lista) )\n",
        "  return soma"
      ],
      "metadata": {
        "id": "fWTTAj1bEHVt"
      },
      "execution_count": null,
      "outputs": []
    },
    {
      "cell_type": "markdown",
      "source": [
        "#### Testes"
      ],
      "metadata": {
        "id": "0gBy8UBdEHlN"
      }
    },
    {
      "cell_type": "code",
      "source": [
        "input1 = [0, 2, 4, 6, 8]\n",
        "\n",
        "ger_reduce(input1)"
      ],
      "metadata": {
        "id": "0gpd8gkWEIal",
        "colab": {
          "base_uri": "https://localhost:8080/"
        },
        "outputId": "09e8bf84-62cc-42ee-8ff6-648896b7a64e"
      },
      "execution_count": null,
      "outputs": [
        {
          "output_type": "execute_result",
          "data": {
            "text/plain": [
              "120"
            ]
          },
          "metadata": {},
          "execution_count": 9
        }
      ]
    },
    {
      "cell_type": "code",
      "source": [
        "input2 = [3.1, 4.2, 5.3, 6.4, 7.5]\n",
        "\n",
        "ger_reduce(input2)"
      ],
      "metadata": {
        "colab": {
          "base_uri": "https://localhost:8080/"
        },
        "id": "pEOmr4Ofm-8c",
        "outputId": "15e36d24-5eaa-4bba-b71b-8c3c715d12fd"
      },
      "execution_count": null,
      "outputs": [
        {
          "output_type": "execute_result",
          "data": {
            "text/plain": [
              "152.55"
            ]
          },
          "metadata": {},
          "execution_count": 19
        }
      ]
    },
    {
      "cell_type": "code",
      "source": [
        "input3 = [11, 15, 17, 22, 49]\n",
        "\n",
        "ger_reduce(input3)"
      ],
      "metadata": {
        "colab": {
          "base_uri": "https://localhost:8080/"
        },
        "id": "DNvZGXK6nM2y",
        "outputId": "75687074-60f3-4a22-cbef-3b865afb5ef6"
      },
      "execution_count": null,
      "outputs": [
        {
          "output_type": "execute_result",
          "data": {
            "text/plain": [
              "3520"
            ]
          },
          "metadata": {},
          "execution_count": 44
        }
      ]
    },
    {
      "cell_type": "markdown",
      "source": [
        "# Total de vendas a partir de dados em arquivo"
      ],
      "metadata": {
        "id": "yTtqFBDY8tQH"
      }
    },
    {
      "cell_type": "markdown",
      "source": [
        "Comumente precisamos lidar com informações que já foram armazenadas em outros locais antes da execução do programa, como uma planilha do excel, de forma a fazer algum processamento com estas informações. Digamos, por exemplo, que uma empresa tenha armazenado dados sobre as vendas dos últimos 5 anos e queira saber a média anual dessas vendas. Podemos acessar estes dados por meio da leitura de arquivos no python para, posteriormente, realizar o cálculo da média. Similarmente, também podemos salvar informações em arquivos no Python para acesso futuro. Utilizando o mesmo exemplo do histórico de vendas, podemos realizar os cálculos de média anual e salvá-lo em um arquivo para enviar para o gerente de vendas.\n",
        "\n",
        "Sabendo disso, crie uma função ```media_vendas()``` para ler um arquivo ```csv``` e retornar o total de vendas no período. A função receberá diretamente a ```string``` lida de um arquivo ```csv``` que usa ```\", \"``` como separador. No arquivo, temos as seguintes colunas: ```data, produto, quantidade, valor```. Note que a coluna ```valor``` corresponde ao preço unitário de cada produto, não o valor total da compra. Nosso objetivo é calcular o total de vendas, considerando todos os produtos registrados no arquivo.\n",
        "\n",
        "Obs.: arredonde a resposta final para duas casas decimais."
      ],
      "metadata": {
        "id": "wvgySOsI8tgX"
      }
    },
    {
      "cell_type": "markdown",
      "source": [
        "#### Resposta"
      ],
      "metadata": {
        "id": "o5apwqx68wbP"
      }
    },
    {
      "cell_type": "code",
      "source": [
        "import pandas as pd\n",
        "\n",
        "def media_vendas(vendas:str) -> int:\n",
        "  # Separa cada linha\n",
        "  vendas = vendas.split('\\n')\n",
        "  # Separa cada item\n",
        "  vendas = [venda.split(', ') for venda in vendas]\n",
        "  # A primeira linha é o cabeçalho\n",
        "  total_vendas = len(vendas) - 1\n",
        "\n",
        "  receita = 0\n",
        "  for i in range(1, len(vendas)):\n",
        "    receita += int(vendas[i][2]) * float(vendas[i][3])\n",
        "  # Cálculo da média\n",
        "  media = round(receita/total_vendas, 2)\n",
        "\n",
        "  return media"
      ],
      "metadata": {
        "id": "F49_gdgI8xyz"
      },
      "execution_count": null,
      "outputs": []
    },
    {
      "cell_type": "markdown",
      "source": [
        "#### Testes"
      ],
      "metadata": {
        "id": "GEtV66n-8yNv"
      }
    },
    {
      "cell_type": "code",
      "source": [
        "input1 = \"data, produto, quantidade, valor\\n20/10/2022, ventilador, 1, 120.00\\n19/20/2022, cadeira, 1, 335.55\\n07/07/2022, lampada, 3, 68.90\"\n",
        "\n",
        "media_vendas(input1)"
      ],
      "metadata": {
        "colab": {
          "base_uri": "https://localhost:8080/"
        },
        "id": "fq76tVWJHcyD",
        "outputId": "62463085-e54b-461f-a112-f3a4ef4e37a0"
      },
      "execution_count": null,
      "outputs": [
        {
          "output_type": "execute_result",
          "data": {
            "text/plain": [
              "220.75"
            ]
          },
          "metadata": {},
          "execution_count": 103
        }
      ]
    },
    {
      "cell_type": "markdown",
      "source": [
        "# Mudança do delimitador do csv"
      ],
      "metadata": {
        "id": "8_Yz1GhfMIVw"
      }
    },
    {
      "cell_type": "markdown",
      "source": [
        "Comumente precisamos lidar com informações que já foram armazenadas em outros locais antes da execução do programa, como uma planilha do excel, de forma a fazer algum processamento com estas informações. Digamos, por exemplo, que uma empresa tenha armazenado dados sobre as vendas dos últimos 5 anos e queira saber a média anual dessas vendas, podemos acessar estes dados por meio da leitura de arquivos no python para, posteriormente, realizar o cálculo da média. Similarmente, também podemos salvar informações em arquivos no Python para acesso futuro. Utilizando o mesmo exemplo do histórico de vendas, podemos realizar os cálculos de média anual e salvá-lo em um arquivo para enviar para o gerente de vendas.\n",
        "\n",
        "Sabendo disso, supondo que uma empresa armazenou seu histórico de vendas como um arquivo csv usando \", \" como delimitador, e agora deseje salvar um novo arquivo csv cujos valores sejam separados por \"\\t\". Faça uma função ```converte_sep()``` que receba uma string que contenha o conteúdo original do csv e retorna a string do arquivo csv com o novo separador."
      ],
      "metadata": {
        "id": "uLtJvbb1MI2P"
      }
    },
    {
      "cell_type": "markdown",
      "source": [
        "#### Resposta"
      ],
      "metadata": {
        "id": "YYaH_kVqML9_"
      }
    },
    {
      "cell_type": "code",
      "source": [
        "def converte_sep(arquivo:str) -> str:\n",
        "\n",
        "  novo_arq = arquivo.replace(', ', '\\t')\n",
        "\n",
        "  return novo_arq"
      ],
      "metadata": {
        "id": "oikNwjJ_8yfY"
      },
      "execution_count": null,
      "outputs": []
    },
    {
      "cell_type": "markdown",
      "source": [
        "#### Testes"
      ],
      "metadata": {
        "id": "UbvHqjV6MNyf"
      }
    },
    {
      "cell_type": "code",
      "source": [
        "input1 = \"data, produto, quantidade, valor\\n20/10/2022, ventilador, 1, 120.00\\n19/20/2022, cadeira, 1, 335.55\\n07/07/2022, lampada, 3, 68.90\"\n",
        "\n",
        "\n",
        "converte_sep(input1)"
      ],
      "metadata": {
        "colab": {
          "base_uri": "https://localhost:8080/",
          "height": 35
        },
        "id": "L_sCg2XjMO4_",
        "outputId": "0940605c-8a9f-493a-dc91-98b91de9f231"
      },
      "execution_count": null,
      "outputs": [
        {
          "output_type": "execute_result",
          "data": {
            "text/plain": [
              "'data\\tproduto\\tquantidade\\tvalor\\n20/10/2022\\tventilador\\t1\\t120.00\\n19/20/2022\\tcadeira\\t1\\t335.55\\n07/07/2022\\tlampada\\t3\\t68.90'"
            ],
            "application/vnd.google.colaboratory.intrinsic+json": {
              "type": "string"
            }
          },
          "metadata": {},
          "execution_count": 87
        }
      ]
    },
    {
      "cell_type": "markdown",
      "source": [
        "# Dados tabulares como lista de listas"
      ],
      "metadata": {
        "id": "Z5VWmM17OIgk"
      }
    },
    {
      "cell_type": "markdown",
      "source": [
        "Em python, podemos trabalhar com dados tabulares em uma estrutura organizada na forma de lista de listas.\n",
        "\n",
        "Sabendo disso, crie uma função ```min_max_temperatura()``` que receba uma lista listas, cada uma com dois elementos: uma data, e uma temperatura. A função deve retornar uma lista com dois elementos: a data de temperatura máxima, e a data de temperatura mínima, nesta ordem."
      ],
      "metadata": {
        "id": "yPxDYDK1OIwj"
      }
    },
    {
      "cell_type": "markdown",
      "source": [
        "#### Resposta"
      ],
      "metadata": {
        "id": "FShFEjNcOLW0"
      }
    },
    {
      "cell_type": "code",
      "source": [
        "def min_max_temperatura(temperaturas:list) -> list:\n",
        "  min_date = temperaturas[0][0]\n",
        "  min_temp = temperaturas[0][1]\n",
        "  max_date = temperaturas[0][0]\n",
        "  max_temp = temperaturas[0][1]\n",
        "\n",
        "  for temperatura in temperaturas:\n",
        "    if temperatura[1] > max_temp:\n",
        "      max_date = temperatura[0]\n",
        "      max_temp = temperatura[1]\n",
        "    if temperatura[1] < min_temp:\n",
        "      min_date = temperatura[0]\n",
        "      min_temp = temperatura[1]\n",
        "\n",
        "  return [max_date, min_date]"
      ],
      "metadata": {
        "id": "30VkVtADONET"
      },
      "execution_count": null,
      "outputs": []
    },
    {
      "cell_type": "markdown",
      "source": [
        "#### Testes"
      ],
      "metadata": {
        "id": "xZdf_BIgONYb"
      }
    },
    {
      "cell_type": "code",
      "source": [
        "input1 = [\n",
        "    [\"25/11/2022\", 30],\n",
        "    [\"26/11/2022\", 27],\n",
        "    [\"27/11/2022\", 31],\n",
        "    [\"28/11/2022\", 29],\n",
        "    [\"29/11/2022\", 20]]\n",
        "\n",
        "min_max_temperatura(input1)"
      ],
      "metadata": {
        "colab": {
          "base_uri": "https://localhost:8080/"
        },
        "id": "7E1kiQIxOrXu",
        "outputId": "b01b32cc-5368-436a-9404-c1c8403caff8"
      },
      "execution_count": null,
      "outputs": [
        {
          "output_type": "execute_result",
          "data": {
            "text/plain": [
              "['27/11/2022', '29/11/2022']"
            ]
          },
          "metadata": {},
          "execution_count": 93
        }
      ]
    },
    {
      "cell_type": "markdown",
      "source": [
        "# Produto mais vendido no arquivo"
      ],
      "metadata": {
        "id": "I2KRl_24QIx2"
      }
    },
    {
      "cell_type": "markdown",
      "source": [
        "Comumente precisamos lidar com informações que já foram armazenadas em outros locais antes da execução do programa, como uma planilha do excel, de forma a fazer algum processamento com estas informações. Digamos, por exemplo, que uma empresa tenha armazenado dados sobre as vendas dos últimos 5 anos e queira saber a média anual dessas vendas. Podemos acessar estes dados por meio da leitura de arquivos no python para, posteriormente, realizar o cálculo da média. Similarmente, também podemos salvar informações em arquivos no Python para acesso futuro. Utilizando o mesmo exemplo do histórico de vendas, podemos realizar os cálculos de média anual e salvá-lo em um arquivo para enviar para o gerente de vendas.\n",
        "\n",
        "Sabendo disso, crie uma função ```produto_mais_vendido()``` para ler um arquivo ```csv``` com as vendas de uma loja e retornar o nome do produto mais vendido (em termos de quantidades de vendas) conforme registrado no arquivo. A função receberá diretamente a ```string``` lida de um arquivo ```csv``` que usa \", \" como separador. No arquivo, temos as seguintes colunas: ```data, produto, quantidade, valor```."
      ],
      "metadata": {
        "id": "w5bxezLhQI_F"
      }
    },
    {
      "cell_type": "markdown",
      "source": [
        "#### Resposta"
      ],
      "metadata": {
        "id": "Zz0PFmd1QLyd"
      }
    },
    {
      "cell_type": "code",
      "source": [
        "def produto_mais_vendido(vendas:str) -> str:\n",
        "  # Separa cada linha\n",
        "  vendas = vendas.split('\\n')\n",
        "  # Separa cada item\n",
        "  vendas = [venda.split(', ') for venda in vendas]\n",
        "\n",
        "  max_vendas = 0\n",
        "  produto = str()\n",
        "  # A primeira linha é o cabeçalho\n",
        "  for venda in vendas[1:]:\n",
        "    if int(venda[2]) > max_vendas:\n",
        "      max_vendas = int(venda[2])\n",
        "      produto = venda[1]\n",
        "\n",
        "  return produto"
      ],
      "metadata": {
        "id": "BQpSBChLQMXF"
      },
      "execution_count": null,
      "outputs": []
    },
    {
      "cell_type": "markdown",
      "source": [
        "#### Testes"
      ],
      "metadata": {
        "id": "ZGe66SQVQMC-"
      }
    },
    {
      "cell_type": "code",
      "source": [
        "input1 = \"data, produto, quantidade, valor\\n20/10/2022, prato, 15, 20.00\\n19/20/2022, copo, 5, 5\\n07/07/2022, lampada, 3, 68.90\"\n",
        "\n",
        "produto_mais_vendido(input1)"
      ],
      "metadata": {
        "colab": {
          "base_uri": "https://localhost:8080/",
          "height": 35
        },
        "id": "FaixLlp1QPK-",
        "outputId": "9445fb3e-3029-4404-d7db-c3084561fde1"
      },
      "execution_count": null,
      "outputs": [
        {
          "output_type": "execute_result",
          "data": {
            "text/plain": [
              "'prato'"
            ],
            "application/vnd.google.colaboratory.intrinsic+json": {
              "type": "string"
            }
          },
          "metadata": {},
          "execution_count": 98
        }
      ]
    }
  ]
}