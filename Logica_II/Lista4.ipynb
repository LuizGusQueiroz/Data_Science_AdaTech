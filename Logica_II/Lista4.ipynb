{
  "nbformat": 4,
  "nbformat_minor": 0,
  "metadata": {
    "colab": {
      "provenance": [],
      "authorship_tag": "ABX9TyNpukj6BrudsIDM2ZJ8f8RU"
    },
    "kernelspec": {
      "name": "python3",
      "display_name": "Python 3"
    },
    "language_info": {
      "name": "python"
    }
  },
  "cells": [
    {
      "cell_type": "markdown",
      "source": [
        "# Uso de Arquivos JSON - parte 1"
      ],
      "metadata": {
        "id": "KV4wBmJXrOoQ"
      }
    },
    {
      "cell_type": "markdown",
      "source": [
        "No python, principalmente em aplicações web, é muito comum utilizarmos o formato JSON. Essa linguagem possui sintaxe semelhante a um dicionário e torna o entendimento do arquivo legível para humanos.\n",
        "\n",
        "Em um arquivo JSON, podemos ter estruturas que variam desde estruturas semelhantes a dicionários simples como dicionários compostos e diferentes estruturas agregadas (listas e tuplas, por exemplo).\n",
        "\n",
        "Sabendo disso, crie a função ```converte_para_json()``` que recebe um JSON na forma de ```string``` como parâmetro e internamente converte esta ```string``` para um objeto do tipo JSON ou dicionário. Adicionalmente, a função recebe um segundo argumento que é alguma das chaves do JSON/dicionário. No fim, a função deve retornar o valor correspondente à chave que foi passada como segundo argumento.\n",
        "\n",
        "Obs.: Importar o módulo ```json``` pode ser útil."
      ],
      "metadata": {
        "id": "BWL9i8QgrO1q"
      }
    },
    {
      "cell_type": "markdown",
      "source": [
        "#### Resposta"
      ],
      "metadata": {
        "id": "3eHqB5BkrSH5"
      }
    },
    {
      "cell_type": "code",
      "source": [
        "import json\n",
        "\n",
        "def converte_para_json(arquivo:str, chave:str):\n",
        "\n",
        "  dados = json.loads(arquivo)\n",
        "\n",
        "  valor = dados[chave]\n",
        "\n",
        "  return valor"
      ],
      "metadata": {
        "id": "4ze4xk0ZrUbK"
      },
      "execution_count": null,
      "outputs": []
    },
    {
      "cell_type": "markdown",
      "source": [
        "#### Testes"
      ],
      "metadata": {
        "id": "Gc8TknJgrTdi"
      }
    },
    {
      "cell_type": "code",
      "source": [
        "input1 = '{\"nome\":\"Richarlison\", \"apelido\": \"pombo\"}'\n",
        "input2 = 'apelido'\n",
        "\n",
        "converte_para_json(input1, input2)"
      ],
      "metadata": {
        "colab": {
          "base_uri": "https://localhost:8080/",
          "height": 35
        },
        "id": "NvQWqvV5rUL2",
        "outputId": "01bb9f70-d14b-4dd2-9e08-097d4ed72d50"
      },
      "execution_count": null,
      "outputs": [
        {
          "output_type": "execute_result",
          "data": {
            "text/plain": [
              "'pombo'"
            ],
            "application/vnd.google.colaboratory.intrinsic+json": {
              "type": "string"
            }
          },
          "metadata": {},
          "execution_count": 33
        }
      ]
    },
    {
      "cell_type": "code",
      "source": [
        "input3 = '{\"escola\":\"ada\", \"cursos\":[\"PY Data Science\", \"Python Pro\"]}'\n",
        "input4 = 'cursos'\n",
        "\n",
        "converte_para_json(input3, input4)"
      ],
      "metadata": {
        "colab": {
          "base_uri": "https://localhost:8080/"
        },
        "id": "H4kECtIoulXl",
        "outputId": "40b5bc16-1c3a-4e49-d425-7dfc550e09d6"
      },
      "execution_count": null,
      "outputs": [
        {
          "output_type": "execute_result",
          "data": {
            "text/plain": [
              "['PY Data Science', 'Python Pro']"
            ]
          },
          "metadata": {},
          "execution_count": 34
        }
      ]
    },
    {
      "cell_type": "markdown",
      "source": [
        "# Uso de Arquivos JSON - parte 2"
      ],
      "metadata": {
        "id": "AuG9GGnQ6qgG"
      }
    },
    {
      "cell_type": "markdown",
      "source": [
        "No python, principalmente em aplicações web, é muito comum utilizarmos o formato JSON. Essa linguagem possui sintaxe semelhante a um dicionário e torna o entendimento do arquivo legível para humanos.\n",
        "\n",
        "Em um arquivo JSON, podemos ter estruturas que variam desde estruturas semelhantes a dicionários simples como dicionários compostos e diferentes estruturas agregadas (listas e tuplas, por exemplo).\n",
        "\n",
        "Sabendo disso, crie uma função que recebe uma lista de chaves, uma lista de valores (respectivamente) e cria um json a partir dessas listas. A função deverá retornar uma string que representa o json criado."
      ],
      "metadata": {
        "id": "LKI1RgFA6qx5"
      }
    },
    {
      "cell_type": "markdown",
      "source": [
        "#### Resposta"
      ],
      "metadata": {
        "id": "hBK0xE4_7IfM"
      }
    },
    {
      "cell_type": "code",
      "source": [
        "def cria_arquivo_json(chaves:list, valores:list) -> str:\n",
        "  json = '{'\n",
        "  for chave, valor in zip(chaves, valores):\n",
        "    json += f'\"{chave}\": {valor}, '\n",
        "  # Remove o ', ' do último item\n",
        "  json = json[:-2]\n",
        "  # Fecha o arquivo\n",
        "  json += '}'\n",
        "\n",
        "  return json"
      ],
      "metadata": {
        "id": "hqhvy1DZ7J2I"
      },
      "execution_count": null,
      "outputs": []
    },
    {
      "cell_type": "markdown",
      "source": [
        "#### Testes"
      ],
      "metadata": {
        "id": "Q7NXeBTT7KKg"
      }
    },
    {
      "cell_type": "code",
      "source": [
        "cria_arquivo_json(['cinco', 'seis'], [5, 6])"
      ],
      "metadata": {
        "colab": {
          "base_uri": "https://localhost:8080/",
          "height": 35
        },
        "id": "-LYjjHlp9iRx",
        "outputId": "acb5d5df-d700-4e94-e59d-e2302ffe1dcb"
      },
      "execution_count": null,
      "outputs": [
        {
          "output_type": "execute_result",
          "data": {
            "text/plain": [
              "'{\"cinco\": 5, \"seis\": 6}'"
            ],
            "application/vnd.google.colaboratory.intrinsic+json": {
              "type": "string"
            }
          },
          "metadata": {},
          "execution_count": 15
        }
      ]
    },
    {
      "cell_type": "markdown",
      "source": [
        "# Validação por blocos try except - parte 1"
      ],
      "metadata": {
        "id": "_2PE3Q97vwIq"
      }
    },
    {
      "cell_type": "markdown",
      "source": [
        "Quando implementamos um software, precisamos pensar nas diferentes situações que podem ocorrer nele, inclusive possíveis falhas. Uma falha que não seja detectada previamente pode resultar em uma interrupção abrupta do programa e esta pode ocorrer de diferentes formas.\n",
        "\n",
        "Por exemplo, suponhamos que um programa necessite de arquitos externos para ser executado e um desses arquivos tenha sido movido para outro diretório, porém, o programa esteja fazendo a leitura do arquivo no diretório antigo. Quando o programa for executado, ele não encontrará o arquivo e sua execução pode ser interrompida. Um outro exemplo são operações matemáticas não permitidas, como uma divisão por zero.\n",
        "\n",
        "Para evitar isso, utilizamos blocos ```try-except``` a fim de tratar possíveis erros e evitar a quebra do programa. Sabendo disso, implemente a função ```divide_dois_numeros()```, que recebe dois números x e y e retorna a divisão do número x por y. Para garantir o uso correto, adicione um bloco ```try-except``` nesta função de forma que, caso y seja igual a zero, acione uma cláusula ```except ZeroDivisionError```."
      ],
      "metadata": {
        "id": "h4UYjq3WvwXC"
      }
    },
    {
      "cell_type": "markdown",
      "source": [
        "#### Resposta"
      ],
      "metadata": {
        "id": "V_15EanEvyfB"
      }
    },
    {
      "cell_type": "code",
      "source": [
        "def divide_dois_numeros(x:float, y:float) -> float:\n",
        "\n",
        "  try:\n",
        "\n",
        "    resultado = x / y\n",
        "    return resultado\n",
        "\n",
        "  except ZeroDivisionError as erro:\n",
        "    raise erro"
      ],
      "metadata": {
        "id": "wGQdxHhqv0i8"
      },
      "execution_count": null,
      "outputs": []
    },
    {
      "cell_type": "markdown",
      "source": [
        "#### Testes"
      ],
      "metadata": {
        "id": "yszF1oopvzrx"
      }
    },
    {
      "cell_type": "code",
      "source": [
        "try:\n",
        "\n",
        "  resultado = divide_dois_numeros(1, 0)\n",
        "  print(resultado)\n",
        "\n",
        "except Exception as erro:\n",
        "  print(erro)"
      ],
      "metadata": {
        "colab": {
          "base_uri": "https://localhost:8080/"
        },
        "id": "mvseFQ_GwgVB",
        "outputId": "3b98f0c9-5a94-4147-a874-6ff5bdc7c866"
      },
      "execution_count": null,
      "outputs": [
        {
          "output_type": "stream",
          "name": "stdout",
          "text": [
            "division by zero\n"
          ]
        }
      ]
    },
    {
      "cell_type": "code",
      "source": [
        "try:\n",
        "\n",
        "  resultado = divide_dois_numeros(18, 5)\n",
        "  print(resultado)\n",
        "\n",
        "except Exception as erro:\n",
        "  print(erro)"
      ],
      "metadata": {
        "colab": {
          "base_uri": "https://localhost:8080/"
        },
        "id": "vCOLyTtlwx1A",
        "outputId": "8d3b00f3-b512-4302-f2f5-dc4edfbbcdb7"
      },
      "execution_count": null,
      "outputs": [
        {
          "output_type": "stream",
          "name": "stdout",
          "text": [
            "3.6\n"
          ]
        }
      ]
    },
    {
      "cell_type": "markdown",
      "source": [
        "# Validação por blocos try except - parte 2"
      ],
      "metadata": {
        "id": "nBIA5hk9D1Uy"
      }
    },
    {
      "cell_type": "markdown",
      "source": [
        "Quando implementamos um software, precisamos pensar nas diferentes situações que podem ocorrer nele, inclusive possíveis falhas. Uma falha que não seja detectada previamente pode resultar em uma interrupção abrupta do programa e esta pode ocorrer de diferentes formas.\n",
        "\n",
        "Por exemplo, suponhamos que um programa necessite de arquitos externos para ser executado e um desses arquivos tenha sido movido para outro diretório, porém, o programa esteja fazendo a leitura do arquivo no diretório antigo. Quando o programa for executado, ele não encontrará o arquivo e sua execução pode ser interrompida. Um outro exemplo são operações matemáticas não permitidas, como uma divisão por zero.\n",
        "\n",
        "Para evitar isso, utilizamos blocos ```try-except``` a fim de tratar possíveis erros e evitar a quebra do programa. Sabendo disso, implemente a função ```divide_dois_numeros()```, que recebe dois números x e y e retorna a divisão do número x por y. Para garantir o uso correto, adicione um bloco ```try-except``` nesta função de forma que, caso y seja igual a zero, acione uma cláusula ```except ZeroDivisionError```, além de uma segunda cláusula except para caso a função seja chamada sem um dos dois parâmetros obrigatórios (variáveis x e y), subindo um erro do tipo adequado (alguma ```built-in Exception```) caso algum dos argumentos não seja passado."
      ],
      "metadata": {
        "id": "AcwSjcgyDzmr"
      }
    },
    {
      "cell_type": "markdown",
      "source": [
        "#### Resposta"
      ],
      "metadata": {
        "id": "-lPCBYW0D3-a"
      }
    },
    {
      "cell_type": "code",
      "source": [
        "def divide_dois_numeros(x:float=None, y:float=None) -> float:\n",
        "\n",
        "  try:\n",
        "\n",
        "    divisao = x / y\n",
        "    return divisao\n",
        "\n",
        "  except TypeError as erro:\n",
        "    raise erro\n",
        "  except ZeroDivisionError as erro:\n",
        "   raise erro\n",
        "\n"
      ],
      "metadata": {
        "id": "3nFq5cFAD54A"
      },
      "execution_count": null,
      "outputs": []
    },
    {
      "cell_type": "markdown",
      "source": [
        "#### Testes"
      ],
      "metadata": {
        "id": "DQ56Y3OiD6K6"
      }
    },
    {
      "cell_type": "code",
      "source": [
        "try:\n",
        "  resultado = divide_dois_numeros()\n",
        "  print(resultado)\n",
        "except Exception as erro:\n",
        "  print(f'Erro: {erro}')"
      ],
      "metadata": {
        "colab": {
          "base_uri": "https://localhost:8080/"
        },
        "id": "1lOyhykbD7V5",
        "outputId": "1642efea-b6e4-4bde-8202-d86565cf7175"
      },
      "execution_count": null,
      "outputs": [
        {
          "output_type": "stream",
          "name": "stdout",
          "text": [
            "Erro: unsupported operand type(s) for /: 'NoneType' and 'NoneType'\n"
          ]
        }
      ]
    },
    {
      "cell_type": "code",
      "source": [
        "try:\n",
        "  resultado = divide_dois_numeros(1, 0)\n",
        "  print(resultado)\n",
        "except Exception as erro:\n",
        "  print(f'Erro: {erro}')"
      ],
      "metadata": {
        "colab": {
          "base_uri": "https://localhost:8080/"
        },
        "id": "C_Zz9LIwPJwC",
        "outputId": "800362ec-40b2-4139-c0e7-dde880eb78e1"
      },
      "execution_count": null,
      "outputs": [
        {
          "output_type": "stream",
          "name": "stdout",
          "text": [
            "Erro: division by zero\n"
          ]
        }
      ]
    },
    {
      "cell_type": "code",
      "source": [
        "try:\n",
        "  resultado = divide_dois_numeros(2, 5)\n",
        "  print(resultado)\n",
        "except Exception as erro:\n",
        "  print(f'Erro: {erro}')"
      ],
      "metadata": {
        "colab": {
          "base_uri": "https://localhost:8080/"
        },
        "id": "AKG1B8Z_PRFS",
        "outputId": "1edcd563-f11c-4639-abf6-d027b5a68e6e"
      },
      "execution_count": null,
      "outputs": [
        {
          "output_type": "stream",
          "name": "stdout",
          "text": [
            "0.4\n"
          ]
        }
      ]
    },
    {
      "cell_type": "markdown",
      "source": [
        "# Validação por blocos try except - parte 3"
      ],
      "metadata": {
        "id": "UMoyk3F8o_p0"
      }
    },
    {
      "cell_type": "markdown",
      "source": [
        "Quando implementamos um software, precisamos pensar nas diferentes situações que podem ocorrer nele, inclusive possíveis falhas. Uma falha que não seja detectada previamente pode resultar em uma interrupção abrupta do programa e esta pode ocorrer de diferentes formas.\n",
        "\n",
        "Por exemplo, suponhamos que um programa necessite de arquitos externos para ser executado e um desses arquivos tenha sido movido para outro diretório, porém, o programa esteja fazendo a leitura do arquivo no diretório antigo. Quando o programa for executado, ele não encontrará o arquivo e sua execução pode ser interrompida. Um outro exemplo são operações matemáticas não permitidas, como uma divisão por zero.\n",
        "\n",
        "Para evitar isso, utilizamos blocos ```try-except``` a fim de tratar possíveis erros e evitar a quebra do programa. Podemos utilizar esses blocos juntamente também de estruturas ```if-else```. Sabendo disso, crie uma função ```verifica_numero(x1)``` que recebe um número e, caso este número não seja de tipo ```int```, retorne uma exceção de tipo\n",
        "```python\n",
        "TypeError(\"Apenas números inteiros permitidos. Digite novamente\")\n",
        "```"
      ],
      "metadata": {
        "id": "_GTTC_bGpAIz"
      }
    },
    {
      "cell_type": "markdown",
      "source": [
        "#### Resposta"
      ],
      "metadata": {
        "id": "VTvtBX-76Kzq"
      }
    },
    {
      "cell_type": "code",
      "execution_count": null,
      "metadata": {
        "id": "t94If2HVo7i8"
      },
      "outputs": [],
      "source": [
        "def verifica_numero(num:int):\n",
        "\n",
        "  if type(num) != int:\n",
        "    raise TypeError('Apenas números inteiros permitidos. Digite novamente')"
      ]
    },
    {
      "cell_type": "markdown",
      "source": [
        "#### Testes"
      ],
      "metadata": {
        "id": "nzyZvF9V6uKq"
      }
    },
    {
      "cell_type": "code",
      "source": [
        "input1 = 1.1\n",
        "\n",
        "try:\n",
        "  verifica_numero(input1)\n",
        "except Exception as erro:\n",
        "  print(f'Erro: {erro}')"
      ],
      "metadata": {
        "colab": {
          "base_uri": "https://localhost:8080/"
        },
        "id": "dNiyJXVj6dTZ",
        "outputId": "be4b7094-1656-46b1-bf02-6207304ffc0e"
      },
      "execution_count": null,
      "outputs": [
        {
          "output_type": "stream",
          "name": "stdout",
          "text": [
            "Erro: Apenas números inteiros permitidos. Digite novamente\n"
          ]
        }
      ]
    },
    {
      "cell_type": "code",
      "source": [
        "input1 = 2\n",
        "\n",
        "try:\n",
        "  verifica_numero(input1)\n",
        "except Exception as erro:\n",
        "  print(f'Erro: {erro}')"
      ],
      "metadata": {
        "id": "jHczrEMC7CgR"
      },
      "execution_count": null,
      "outputs": []
    },
    {
      "cell_type": "code",
      "source": [
        "input1 = '8'\n",
        "try:\n",
        "  verifica_numero(input1)\n",
        "except Exception as erro:\n",
        "  print(f'Erro: {erro}')"
      ],
      "metadata": {
        "colab": {
          "base_uri": "https://localhost:8080/"
        },
        "id": "J5DkL1387Esw",
        "outputId": "9609dd0f-d8a1-4303-cbb2-0b0fabe8998e"
      },
      "execution_count": null,
      "outputs": [
        {
          "output_type": "stream",
          "name": "stdout",
          "text": [
            "Erro: Apenas números inteiros permitidos. Digite novamente\n"
          ]
        }
      ]
    },
    {
      "cell_type": "markdown",
      "source": [
        "# Validação por blocos try except - parte 4"
      ],
      "metadata": {
        "id": "hWbp7xFCx4SV"
      }
    },
    {
      "cell_type": "markdown",
      "source": [
        "Quando implementamos um software, precisamos pensar nas diferentes situações que podem ocorrer nele, inclusive possíveis falhas. Uma falha que não seja detectada previamente pode resultar em uma interrupção abrupta do programa e esta pode ocorrer de diferentes formas.\n",
        "\n",
        "Por exemplo, suponhamos que um programa necessite de arquitos externos para ser executado e um desses arquivos tenha sido movido para outro diretório, porém, o programa esteja fazendo a leitura do arquivo no diretório antigo. Quando o programa for executado, ele não encontrará o arquivo e sua execução pode ser interrompida. Um outro exemplo são operações matemáticas não permitidas, como uma divisão por zero.\n",
        "\n",
        "Para evitar isso, utilizamos blocos ```try-except``` a fim de tratar possíveis erros e evitar a quebra do programa. Podemos utilizar esses blocos juntamente também de estruturas ```if-else```. Sabendo disso, crie uma função ```verifica_numero(x1)``` que recebe um número e, caso este número não seja positivo, retorne uma exceção de tipo\n",
        "```python\n",
        "Exception(\"Número deverá ser maior que zero\")\n",
        "```"
      ],
      "metadata": {
        "id": "q_SXMpcmx4d-"
      }
    },
    {
      "cell_type": "markdown",
      "source": [
        "#### Resposta"
      ],
      "metadata": {
        "id": "_CMCeQblx9Bu"
      }
    },
    {
      "cell_type": "code",
      "source": [
        "def verifica_numero(num:float):\n",
        "\n",
        "  if num <= 0:\n",
        "    raise Exception('Número deverá ser maior que zero')"
      ],
      "metadata": {
        "id": "4N7_f7HHx-Fx"
      },
      "execution_count": null,
      "outputs": []
    },
    {
      "cell_type": "markdown",
      "source": [
        "#### Testes"
      ],
      "metadata": {
        "id": "wpccAo-Ux-VF"
      }
    },
    {
      "cell_type": "code",
      "source": [
        "input1 = -10\n",
        "\n",
        "try:\n",
        "  verifica_numero(input1)\n",
        "except Exception as erro:\n",
        "  print(erro)"
      ],
      "metadata": {
        "colab": {
          "base_uri": "https://localhost:8080/"
        },
        "id": "dQvh8h7A0xf_",
        "outputId": "23123305-b717-4799-fdf3-4601b0bce0e3"
      },
      "execution_count": null,
      "outputs": [
        {
          "output_type": "stream",
          "name": "stdout",
          "text": [
            "Número deverá ser maior que zero\n"
          ]
        }
      ]
    },
    {
      "cell_type": "code",
      "source": [
        "input1 = 5.12\n",
        "\n",
        "try:\n",
        "  verifica_numero(input1)\n",
        "except Exception as erro:\n",
        "  print(erro)"
      ],
      "metadata": {
        "id": "ndNTpjrY1BIW"
      },
      "execution_count": null,
      "outputs": []
    },
    {
      "cell_type": "code",
      "source": [
        "input1 = 0\n",
        "\n",
        "try:\n",
        "  verifica_numero(input1)\n",
        "except Exception as erro:\n",
        "  print(erro)"
      ],
      "metadata": {
        "colab": {
          "base_uri": "https://localhost:8080/"
        },
        "id": "2b7AIQLN1Bk2",
        "outputId": "81d7e791-4b46-4417-cdea-f8734bfc3e08"
      },
      "execution_count": null,
      "outputs": [
        {
          "output_type": "stream",
          "name": "stdout",
          "text": [
            "Número deverá ser maior que zero\n"
          ]
        }
      ]
    },
    {
      "cell_type": "markdown",
      "source": [
        "# Validação por blocos try except - parte 5"
      ],
      "metadata": {
        "id": "dUm72ZVZ96Dw"
      }
    },
    {
      "cell_type": "markdown",
      "source": [
        "Quando implementamos um software, precisamos pensar nas diferentes situações que podem ocorrer nele, inclusive possíveis falhas. Uma falha que não seja detectada previamente pode resultar em uma interrupção abrupta do programa e esta pode ocorrer de diferentes formas.\n",
        "\n",
        "Por exemplo, suponhamos que um programa necessite de arquitos externos para ser executado e um desses arquivos tenha sido movido para outro diretório, porém, o programa esteja fazendo a leitura do arquivo no diretório antigo. Quando o programa for executado, ele não encontrará o arquivo e sua execução pode ser interrompida. Um outro exemplo são operações matemáticas não permitidas, como uma divisão por zero.\n",
        "\n",
        "Para evitar isso, utilizamos blocos ```try-except``` a fim de tratar possíveis erros e evitar a quebra do programa. Podemos utilizar esses blocos juntamente também de estruturas ```if-else```. Sabendo disso, crie uma função ```verifica_extensao()``` que recebe um caminho de um arquivo a ser lido por um programa e valide a extensão deste arquivo. Será considerada uma extensão válida os arquivos nos formatos ```.jpg, .jpeg e .png```. Os demais deverão lançar uma exceção\n",
        "```python\n",
        "Exception(\"Formato inválido\")\n",
        "```"
      ],
      "metadata": {
        "id": "7sgXbjHb96Xo"
      }
    },
    {
      "cell_type": "markdown",
      "source": [
        "#### Resposta"
      ],
      "metadata": {
        "id": "F7_GLGgG9-iP"
      }
    },
    {
      "cell_type": "code",
      "source": [
        "def verifica_extensao(arquivo:str):\n",
        "  formatos = ['.jpg', '.jpeg', '.png']\n",
        "\n",
        "  valido = False\n",
        "  for formato in formatos:\n",
        "    # Compara se os últimos caracteres do\n",
        "    # arquivo correspondem ao formato\n",
        "    if arquivo[-len(formato):] == formato:\n",
        "      valido = True\n",
        "      break\n",
        "\n",
        "  if not valido:\n",
        "    raise Exception('Formato inválido')"
      ],
      "metadata": {
        "id": "g-SAzVkd8CiB"
      },
      "execution_count": null,
      "outputs": []
    },
    {
      "cell_type": "markdown",
      "source": [
        "#### Testes"
      ],
      "metadata": {
        "id": "mU9mGUh_-AVg"
      }
    },
    {
      "cell_type": "code",
      "source": [
        "input1 = 'Resultados.xlsx'\n",
        "\n",
        "try:\n",
        "  verifica_extensao(input1)\n",
        "except Exception as erro:\n",
        "  print(f'Erro: {erro}')"
      ],
      "metadata": {
        "colab": {
          "base_uri": "https://localhost:8080/"
        },
        "id": "F_OCfSFq-BoD",
        "outputId": "42541216-da0c-49d0-fb90-093229759fe7"
      },
      "execution_count": null,
      "outputs": [
        {
          "output_type": "stream",
          "name": "stdout",
          "text": [
            "Erro: Formato inválido\n"
          ]
        }
      ]
    },
    {
      "cell_type": "code",
      "source": [
        "input2 = 'Relatório.png'\n",
        "\n",
        "try:\n",
        "  verifica_extensao(input2)\n",
        "except Exception as erro:\n",
        "  print(f'Erro: {erro}')"
      ],
      "metadata": {
        "id": "zx8QW4SQDj_D"
      },
      "execution_count": null,
      "outputs": []
    },
    {
      "cell_type": "code",
      "source": [
        "input3 = 'registros.csv'\n",
        "\n",
        "try:\n",
        "  verifica_extensao(input3)\n",
        "except Exception as erro:\n",
        "  print(f'Erro: {erro}')"
      ],
      "metadata": {
        "colab": {
          "base_uri": "https://localhost:8080/"
        },
        "id": "Kh-cWxyfDkVE",
        "outputId": "a3cb8465-250c-462f-fe82-d8d4345ee39d"
      },
      "execution_count": null,
      "outputs": [
        {
          "output_type": "stream",
          "name": "stdout",
          "text": [
            "Erro: Formato inválido\n"
          ]
        }
      ]
    },
    {
      "cell_type": "markdown",
      "source": [
        "# Validação por blocos try except - parte 6"
      ],
      "metadata": {
        "id": "wO41i2MWPp7p"
      }
    },
    {
      "cell_type": "markdown",
      "source": [
        "Quando implementamos um software, precisamos pensar nas diferentes situações que podem ocorrer nele, inclusive possíveis falhas. Uma falha que não seja detectada previamente pode resultar em uma interrupção abrupta do programa e esta pode ocorrer de n formas.\n",
        "\n",
        "Por exemplo, suponhamos que um programa necessite de arquitos externos para ser executado e um desses arquivos tenha sido movido para outro diretório, porém, o programa esteja fazendo a leitura do arquivo no diretório antigo. Quando o programa for executado, ele não encontrará o arquivo e sua execução pode ser interrompida. Um outro exemplo são operações matemáticas não permitidas, como uma divisão por zero.\n",
        "\n",
        "Para evitar isso, utilizamos blocos ```try-except``` afim de tratar possíveis erros e evitar quebra do programa. Um erro comum de ocorrer é alguma variável do programa estar vazia em um dado momento quando não deveria estar. Sabendo disso, faça um programa que lance uma exceção ```TypeError``` caso uma variável seja ```None```."
      ],
      "metadata": {
        "id": "jm4CTXN5PqGQ"
      }
    },
    {
      "cell_type": "markdown",
      "source": [
        "#### Resposta"
      ],
      "metadata": {
        "id": "uTwELSOTPs-7"
      }
    },
    {
      "cell_type": "code",
      "source": [
        "def valida_variavel(var=None):\n",
        "\n",
        "  if var is None:\n",
        "    raise TypeError('Variável Nula!')"
      ],
      "metadata": {
        "id": "P6EfxIhTPtjQ"
      },
      "execution_count": null,
      "outputs": []
    },
    {
      "cell_type": "markdown",
      "source": [
        "#### Testes"
      ],
      "metadata": {
        "id": "JOJhZNSvPtRZ"
      }
    },
    {
      "cell_type": "code",
      "source": [
        "try:\n",
        "  valida_variavel()\n",
        "except Exception as erro:\n",
        "  print(f'Erro: {erro}')"
      ],
      "metadata": {
        "id": "abuNwFSWPwAQ",
        "colab": {
          "base_uri": "https://localhost:8080/"
        },
        "outputId": "1db98f8f-b49d-4659-d6bd-5e4bb68c6444"
      },
      "execution_count": null,
      "outputs": [
        {
          "output_type": "stream",
          "name": "stdout",
          "text": [
            "Erro: Variável Nula!\n"
          ]
        }
      ]
    },
    {
      "cell_type": "code",
      "source": [
        "try:\n",
        "  valida_variavel(15)\n",
        "except Exception as erro:\n",
        "  print(f'Erro: {erro}')"
      ],
      "metadata": {
        "id": "KY9GM1R8rG8b"
      },
      "execution_count": null,
      "outputs": []
    }
  ]
}