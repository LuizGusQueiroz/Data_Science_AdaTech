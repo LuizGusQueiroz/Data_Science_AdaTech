{
  "nbformat": 4,
  "nbformat_minor": 0,
  "metadata": {
    "colab": {
      "provenance": [],
      "collapsed_sections": [
        "LdHgO8SW0AYW",
        "8eHdElur3M4_",
        "WSRsOZiy5dvc"
      ],
      "authorship_tag": "ABX9TyOhitvXxUZeeFzfBAq2brH4"
    },
    "kernelspec": {
      "name": "python3",
      "display_name": "Python 3"
    },
    "language_info": {
      "name": "python"
    }
  },
  "cells": [
    {
      "cell_type": "markdown",
      "source": [
        "# Compreensão de dicionários"
      ],
      "metadata": {
        "id": "LdHgO8SW0AYW"
      }
    },
    {
      "cell_type": "markdown",
      "source": [
        "Da mesma forma que utilizamos a sintaxe \"pythonica\" de compreensão de listas, podemos fazer uma estrutura semelhante para gerar dicionários. Sendo assim, crie uma função mediaAlunosParaDicionario() que receba uma lista de listas, em que o primeiro elemento é uma lista com os nomes dos alunos; e o segundo elemento é uma lista com suas respectivas médias. Utilizando compreensão de dicionários, armazene estes dados no dicionário de forma que cada aluno seja a chave e sua média seja o valor."
      ],
      "metadata": {
        "id": "VPOiokxq0Ajv"
      }
    },
    {
      "cell_type": "markdown",
      "source": [
        "#### Resposta"
      ],
      "metadata": {
        "id": "D8PAFuKh1tNQ"
      }
    },
    {
      "cell_type": "code",
      "source": [
        "def mediaAlunosParaDicionario(dados:list) -> list:\n",
        "  medias = [ {aluno:media} for aluno, media in zip(*dados)]\n",
        "  return medias"
      ],
      "metadata": {
        "id": "WFUodlts1s24"
      },
      "execution_count": null,
      "outputs": []
    },
    {
      "cell_type": "markdown",
      "source": [
        "#### Testes"
      ],
      "metadata": {
        "id": "mI7EUMQt2ONC"
      }
    },
    {
      "cell_type": "code",
      "execution_count": null,
      "metadata": {
        "id": "UhgRYXghXwqa",
        "colab": {
          "base_uri": "https://localhost:8080/"
        },
        "outputId": "3c268b70-a556-481c-caf2-2fe1ac68fd6a"
      },
      "outputs": [
        {
          "output_type": "execute_result",
          "data": {
            "text/plain": [
              "[{'Diego': 9.0},\n",
              " {'Thais': 8.2},\n",
              " {'Marilia': 5.3},\n",
              " {'Lucas': 8.8},\n",
              " {'Cecilia': 7.5}]"
            ]
          },
          "metadata": {},
          "execution_count": 6
        }
      ],
      "source": [
        "dados = [[\"Diego\", \"Thais\", \"Marilia\", \"Lucas\", \"Cecilia\"], [9.0, 8.2, 5.3, 8.8, 7.5]]\n",
        "\n",
        "mediaAlunosParaDicionario(dados)"
      ]
    },
    {
      "cell_type": "markdown",
      "source": [
        "# Filtrando elementos por funções lambda"
      ],
      "metadata": {
        "id": "8eHdElur3M4_"
      }
    },
    {
      "cell_type": "markdown",
      "source": [
        "Em programação, temos que pensar não apenas na implementação do código propriamente dita para execução correta da tarefa desejada, como também na melhor forma de realizar esta implementação. Com isso, paradigmas de programação foram criados para auxiliar o programador a pensar diferente.\n",
        "\n",
        "Um desses paradigmas é a programação funcional, cujo objetivo é aumentar o determinismo do programa de forma que, caso o programa seja escalável e se torne muito grande, os desenvolvedores não percam o controle do código. Uma forma de fazer programação funcional é por meio de funções lambdas, também conhecidas como \"funções anônimas\", tendo esse nome porque não precisam ser declaradas com um nome.\n",
        "\n",
        "Sabendo disso, crie uma função filtraElementos() que recebe uma lista e utiliza função lambda para filtrar os elementos maiores que 10, ou seja, a função deve retornar uma lista apenas com estes elementos maiores que 10.\n",
        "\n",
        "OBS: em um cenário real, a função filtraElementos() seria utilizada para outras funcionalidades também além da utilização da lambda, de forma a melhorar o determinismo do código."
      ],
      "metadata": {
        "id": "ejbvuFDl3NLX"
      }
    },
    {
      "cell_type": "markdown",
      "source": [
        "#### Resposta"
      ],
      "metadata": {
        "id": "l4mh5SG_3SYo"
      }
    },
    {
      "cell_type": "code",
      "source": [
        "def filtraElementos(lista:list) -> list:\n",
        "  lista = list( filter( lambda x: x if x > 10 else None, lista ) )\n",
        "  return lista"
      ],
      "metadata": {
        "id": "J6-TRPrM1sHq"
      },
      "execution_count": null,
      "outputs": []
    },
    {
      "cell_type": "markdown",
      "source": [
        "#### Testes"
      ],
      "metadata": {
        "id": "fZK4z0eH3TpW"
      }
    },
    {
      "cell_type": "code",
      "source": [
        "input1 = [127, 24, 26, 135, 22]\n",
        "\n",
        "filtraElementos(input1)"
      ],
      "metadata": {
        "colab": {
          "base_uri": "https://localhost:8080/"
        },
        "id": "XolX844009Au",
        "outputId": "30adea50-ecac-4271-9c13-504dd177d2f1"
      },
      "execution_count": null,
      "outputs": [
        {
          "output_type": "execute_result",
          "data": {
            "text/plain": [
              "[127, 24, 26, 135, 22]"
            ]
          },
          "metadata": {},
          "execution_count": 17
        }
      ]
    },
    {
      "cell_type": "code",
      "source": [
        "input2 = [13, 9, 9, 19, 3]\n",
        "\n",
        "filtraElementos(input2)"
      ],
      "metadata": {
        "colab": {
          "base_uri": "https://localhost:8080/"
        },
        "id": "pXYGYcjX5taR",
        "outputId": "6c4f6f05-7998-4187-b52d-0b2483786b0e"
      },
      "execution_count": null,
      "outputs": [
        {
          "output_type": "execute_result",
          "data": {
            "text/plain": [
              "[13, 19]"
            ]
          },
          "metadata": {},
          "execution_count": 18
        }
      ]
    },
    {
      "cell_type": "code",
      "source": [
        "input3 = [10, 1, 20, 11, 10]\n",
        "\n",
        "filtraElementos(input3)"
      ],
      "metadata": {
        "colab": {
          "base_uri": "https://localhost:8080/"
        },
        "id": "HmUTX67u5kHT",
        "outputId": "bc653e79-e90a-4d87-9a54-d5992f750f25"
      },
      "execution_count": null,
      "outputs": [
        {
          "output_type": "execute_result",
          "data": {
            "text/plain": [
              "[20, 11]"
            ]
          },
          "metadata": {},
          "execution_count": 19
        }
      ]
    },
    {
      "cell_type": "markdown",
      "source": [
        "# Expressões geradoras para tuplas"
      ],
      "metadata": {
        "id": "WSRsOZiy5dvc"
      }
    },
    {
      "cell_type": "markdown",
      "source": [
        "Também é possível utilizar expressão geradoras para construir tuplas. Sendo assim, crie a função getQuadrado() que recebe uma tupla de elementos numéricos, e retorna uma tupla com o quadrado de cada elemento da tupla original."
      ],
      "metadata": {
        "id": "xp4ph__E5cEb"
      }
    },
    {
      "cell_type": "markdown",
      "source": [
        "#### Resposta"
      ],
      "metadata": {
        "id": "qf5VDhaw5-gT"
      }
    },
    {
      "cell_type": "code",
      "source": [
        "def getQuadrado(tupla:tuple) -> tuple:\n",
        "  nova_tupla = tuple( (num**2 for num in tupla) )\n",
        "  return nova_tupla"
      ],
      "metadata": {
        "id": "EylyL3TG5_m4"
      },
      "execution_count": null,
      "outputs": []
    },
    {
      "cell_type": "markdown",
      "source": [
        "#### Testes"
      ],
      "metadata": {
        "id": "_1zbw0f15_7J"
      }
    },
    {
      "cell_type": "code",
      "source": [
        "input1 = (1, 2, 3, 4, 5, 6, 7, 8, 9, 10)\n",
        "\n",
        "getQuadrado(input1)"
      ],
      "metadata": {
        "colab": {
          "base_uri": "https://localhost:8080/"
        },
        "id": "TkZB9FiF6BWA",
        "outputId": "08c647f8-4826-45b0-ddf1-47d961e21edb"
      },
      "execution_count": null,
      "outputs": [
        {
          "output_type": "execute_result",
          "data": {
            "text/plain": [
              "(1, 4, 9, 16, 25, 36, 49, 64, 81, 100)"
            ]
          },
          "metadata": {},
          "execution_count": 23
        }
      ]
    },
    {
      "cell_type": "markdown",
      "source": [
        "# Retorna consoantes"
      ],
      "metadata": {
        "id": "5hZr-rZM69jO"
      }
    },
    {
      "cell_type": "markdown",
      "source": [
        "Muitas vezes quando estamos trabalhando com strings, pode ser bem útil usarmos compreensão de listas para processar caractere a caractere. Sabendo disso, crie uma função encontraConsoantes que retorna uma string com todas as consoantes (e apenas as consoantes!) de uma dada frase de input."
      ],
      "metadata": {
        "id": "DeylICT569Qg"
      }
    },
    {
      "cell_type": "markdown",
      "source": [
        "#### Resposta"
      ],
      "metadata": {
        "id": "4iu7f9Dz7Cp1"
      }
    },
    {
      "cell_type": "code",
      "source": [
        "def encontraConsoantes(string:str) -> str:\n",
        "  consoantes = 'bcdfghjklmnpqrstvwxyz'\n",
        "  consoantes += consoantes.upper()\n",
        "  nova_string = [letra for letra in string if letra in consoantes]\n",
        "  nova_string = ''.join(nova_string)\n",
        "  return nova_string"
      ],
      "metadata": {
        "id": "z20R1kuE7C52"
      },
      "execution_count": null,
      "outputs": []
    },
    {
      "cell_type": "markdown",
      "source": [
        "#### Testes"
      ],
      "metadata": {
        "id": "PNIkH-027DHe"
      }
    },
    {
      "cell_type": "code",
      "source": [
        "input1 = 'Yellow Yaks like yelling and yawning and yesturday they yodled while eating yuky yams'\n",
        "\n",
        "encontraConsoantes(input1)"
      ],
      "metadata": {
        "colab": {
          "base_uri": "https://localhost:8080/",
          "height": 36
        },
        "id": "6yx7oL0475Xc",
        "outputId": "6f4cb650-a649-4e0c-bcf2-52bdbb1cd17a"
      },
      "execution_count": null,
      "outputs": [
        {
          "output_type": "execute_result",
          "data": {
            "text/plain": [
              "'YllwYkslkyllngndywnngndystrdythyydldwhltngykyyms'"
            ],
            "application/vnd.google.colaboratory.intrinsic+json": {
              "type": "string"
            }
          },
          "metadata": {},
          "execution_count": 28
        }
      ]
    },
    {
      "cell_type": "code",
      "source": [
        "input2 = 'data science possui uso em diferentes areas'\n",
        "\n",
        "encontraConsoantes(input2)"
      ],
      "metadata": {
        "colab": {
          "base_uri": "https://localhost:8080/",
          "height": 36
        },
        "id": "SYhrK5y68Y3t",
        "outputId": "fab21063-242a-452d-ed29-15c102233f3f"
      },
      "execution_count": null,
      "outputs": [
        {
          "output_type": "execute_result",
          "data": {
            "text/plain": [
              "'dtscncpsssmdfrntsrs'"
            ],
            "application/vnd.google.colaboratory.intrinsic+json": {
              "type": "string"
            }
          },
          "metadata": {},
          "execution_count": 30
        }
      ]
    },
    {
      "cell_type": "code",
      "source": [
        "input3 = 'dolor sit amet, consectetur adipiscing elit. Etiam eget ligula eu lectus lobortis condimentum'\n",
        "\n",
        "encontraConsoantes(input3)"
      ],
      "metadata": {
        "colab": {
          "base_uri": "https://localhost:8080/",
          "height": 36
        },
        "id": "RjRuWze-71yM",
        "outputId": "17dbca61-db88-4493-8487-dd9e20a1f4a2"
      },
      "execution_count": null,
      "outputs": [
        {
          "output_type": "execute_result",
          "data": {
            "text/plain": [
              "'dlrstmtcnscttrdpscnglttmgtlgllctslbrtscndmntm'"
            ],
            "application/vnd.google.colaboratory.intrinsic+json": {
              "type": "string"
            }
          },
          "metadata": {},
          "execution_count": 31
        }
      ]
    },
    {
      "cell_type": "markdown",
      "source": [
        "# Dicionário cujos valores são listas"
      ],
      "metadata": {
        "id": "ZgHT0XgiWIQY"
      }
    },
    {
      "cell_type": "markdown",
      "source": [
        "Em determinadas situações, é necessário agrupar informações de acordo com alguma dada característica para facilitar o acesso a essas informações. Uma estrutura em python que armazena informações seguindo essa organização são dicionários.\n",
        "\n",
        "Um exemplo de uso comum de dicionários são cadastros de clientes, em que, por exemplo, um elemento do dicionário pode ser o nome dos clientes, outro elemento o emprego outro o estado de habitação. Quando quisermos utilizar apenas as informações de estado, selecionamos apenas este elemento do dicionário, utilizando a respectiva chave como indexador do dicionário.\n",
        "\n",
        "Sabendo disso, crie uma função mediaPrecoCelular() que receba um dicionário que possui a chave \"valor\", e retorne uma lista com: a média dos valores existentes nesta chave, o celular mais barato, e o mais caro, nesta ordem."
      ],
      "metadata": {
        "id": "y-HB6f7qWIf_"
      }
    },
    {
      "cell_type": "markdown",
      "source": [
        "#### Resposta"
      ],
      "metadata": {
        "id": "bvPorC9iWfBv"
      }
    },
    {
      "cell_type": "code",
      "source": [
        "def mediaPrecoCelular(dicionario:dict) -> list:\n",
        "  valores = dicionario['valor']\n",
        "  media = sum(valores) / len(valores)\n",
        "  mais_barato = min(valores)\n",
        "  mais_caro = max(valores)\n",
        "\n",
        "  return [media, mais_barato, mais_caro]"
      ],
      "metadata": {
        "id": "sggs9fbxWfV-"
      },
      "execution_count": null,
      "outputs": []
    },
    {
      "cell_type": "markdown",
      "source": [
        "#### Testes"
      ],
      "metadata": {
        "id": "WOXN8uD2Wfi1"
      }
    },
    {
      "cell_type": "code",
      "source": [
        "input1 = {\n",
        "    'modelos':['s12', 'a24', 'g20', 'k40'],\n",
        "    'valor':[1200, 900, 1500, 1000]\n",
        "}\n",
        "\n",
        "mediaPrecoCelular(input1)"
      ],
      "metadata": {
        "colab": {
          "base_uri": "https://localhost:8080/"
        },
        "id": "aL2kYLJJWf2t",
        "outputId": "e51afc15-7da7-4785-961d-3dca5a5da439"
      },
      "execution_count": null,
      "outputs": [
        {
          "output_type": "execute_result",
          "data": {
            "text/plain": [
              "[1150.0, 900, 1500]"
            ]
          },
          "metadata": {},
          "execution_count": 3
        }
      ]
    },
    {
      "cell_type": "markdown",
      "source": [
        "# Usando Dicionário para Calcular Quadrado de Números"
      ],
      "metadata": {
        "id": "opBCj3d1X5Br"
      }
    },
    {
      "cell_type": "markdown",
      "source": [
        "Dicionários são estruturas de dados muito úteis e flexíveis, podendo, inclusive, ser construídos a partir de outras estruturas, como listas.\n",
        "\n",
        "Sabendo disso, crie uma função dicionarioQuadrados() que receba uma lista números e gera um dicionário, de forma que cada chave do dicionário seja um elemento da lista e cada valor seja este elemento ao quadrado."
      ],
      "metadata": {
        "id": "iuZVSL0xX5Tr"
      }
    },
    {
      "cell_type": "markdown",
      "source": [
        "#### Resposta"
      ],
      "metadata": {
        "id": "nRmqQOXTX-CK"
      }
    },
    {
      "cell_type": "code",
      "source": [
        "def dicionarioQuadrados(numeros:list) -> dict:\n",
        "  quadrados = dict()\n",
        "  for numero in numeros:\n",
        "    quadrados[numero] = numero**2\n",
        "\n",
        "  return quadrados"
      ],
      "metadata": {
        "id": "ivgngZBnX-TK"
      },
      "execution_count": null,
      "outputs": []
    },
    {
      "cell_type": "markdown",
      "source": [
        "#### Testes"
      ],
      "metadata": {
        "id": "75b6VkHPX-ls"
      }
    },
    {
      "cell_type": "code",
      "source": [
        "input1 = [1, 2, 3, 4, 5, 6, 7, 8, 9, 10]\n",
        "\n",
        "dicionarioQuadrados(input1)"
      ],
      "metadata": {
        "colab": {
          "base_uri": "https://localhost:8080/"
        },
        "id": "r-U4oqrwX-0q",
        "outputId": "07dfffff-7688-4fb4-b9b3-98e0f262fee3"
      },
      "execution_count": null,
      "outputs": [
        {
          "output_type": "execute_result",
          "data": {
            "text/plain": [
              "{1: 1, 2: 4, 3: 9, 4: 16, 5: 25, 6: 36, 7: 49, 8: 64, 9: 81, 10: 100}"
            ]
          },
          "metadata": {},
          "execution_count": 6
        }
      ]
    },
    {
      "cell_type": "markdown",
      "source": [
        "# Encontrando números divisíveis por 7"
      ],
      "metadata": {
        "id": "CVzwhfmpYqZy"
      }
    },
    {
      "cell_type": "markdown",
      "source": [
        "Uma forma \"pythonica\" de iterarmos por listas é por meio de compreensão de listas, que substitui o uso de um laço de repetição for tal como implementamos tradicionalmente para a criação de novas listas.\n",
        "\n",
        "Sabendo disso, digamos que em um sistema desejemos buscar, entre 1000 usuários, apenas aqueles cujo ID é divisível por 7. Faça uma função numerosDiv7() para este sistema que receba uma lista A de 1000 elementos e retorne uma lista apenas com os elementos de A que são divisíveis por 7.\n",
        "\n",
        "OBS: Caso existam elementos repetidos na lista, a saída deverá exibir apenas os elementos únicos divisíveis por 7. E se não houver elementos divisíveis por 7, o programa deve retornar uma lista vazia."
      ],
      "metadata": {
        "id": "T8-fxotFYqqR"
      }
    },
    {
      "cell_type": "markdown",
      "source": [
        "#### Resposta"
      ],
      "metadata": {
        "id": "svW_CmTvYtL5"
      }
    },
    {
      "cell_type": "code",
      "source": [
        "def numerosDiv7(numeros:list) -> list:\n",
        "  divisiveis = sorted( list( set( [num for num in numeros if num%7 == 0] ) ) )\n",
        "\n",
        "  return divisiveis"
      ],
      "metadata": {
        "id": "FHm27ftsYtah"
      },
      "execution_count": null,
      "outputs": []
    },
    {
      "cell_type": "markdown",
      "source": [
        "#### Testes"
      ],
      "metadata": {
        "id": "Y9XJorVXYtm6"
      }
    },
    {
      "cell_type": "code",
      "source": [
        "input1 = [\n",
        "    230, 223, 356, 892, 281, 21, 854, 658, 394, 548, 677, 362, 394,\n",
        "    213, 479, 812, 160, 34, 356, 454, 571, 375, 64, 218, 972, 693,\n",
        "    472, 231, 772, 550, 748, 212, 378, 151, 433, 719, 23, 19, 85,\n",
        "    323, 599, 393, 303, 889, 774, 646, 705, 656, 453, 282, 105,\n",
        "    588, 637, 719, 542, 361, 11, 454, 998, 559, 800, 599, 324, 10,\n",
        "    55, 345, 745, 477, 157, 968, 33, 718, 502, 173, 572, 596,\n",
        "    255, 134, 931, 40, 846, 294, 879, 803, 422, 14, 812, 139,\n",
        "    307, 392, 278, 479, 191, 334, 889, 988, 244, 61, 790, 70 ]\n",
        "\n",
        "numerosDiv7(input1)"
      ],
      "metadata": {
        "colab": {
          "base_uri": "https://localhost:8080/"
        },
        "id": "vgnH9dm-nLfu",
        "outputId": "26b43c8e-e430-422b-e585-c7c9ed7e5442"
      },
      "execution_count": null,
      "outputs": [
        {
          "output_type": "execute_result",
          "data": {
            "text/plain": [
              "[14, 21, 70, 105, 231, 294, 378, 392, 588, 637, 658, 693, 812, 854, 889, 931]"
            ]
          },
          "metadata": {},
          "execution_count": 24
        }
      ]
    },
    {
      "cell_type": "code",
      "source": [
        "input2 = [\n",
        "    406, 219, 987, 669, 942, 320, 475, 777, 993, 614, 412, 773, 718,\n",
        "    1000, 439, 928, 276, 710, 80, 895, 78, 64, 746, 955, 958, 76, 616,\n",
        "    106, 589, 855, 754, 99, 981, 210, 480, 743, 708, 739, 732, 586, 337,\n",
        "    553, 784, 954, 902, 959, 888, 888, 236, 709, 359, 212, 46, 44, 659,\n",
        "    250, 754, 794, 463, 688, 618, 303, 426, 86, 180, 16, 549, 263, 39,\n",
        "    255, 973, 645, 152, 947, 877, 500, 388, 558, 81, 726, 683, 668, 429,\n",
        "    754, 184, 537, 687, 785, 498, 346, 327, 206, 239, 515, 349, 403, 885,\n",
        "    801, 245, 414 ]\n",
        "\n",
        "numerosDiv7(input2)"
      ],
      "metadata": {
        "colab": {
          "base_uri": "https://localhost:8080/"
        },
        "id": "g-PTE7LDnLYL",
        "outputId": "9fb4b5b0-1e9f-46e2-a54c-ae7e9e7da0f5"
      },
      "execution_count": null,
      "outputs": [
        {
          "output_type": "execute_result",
          "data": {
            "text/plain": [
              "[210, 245, 406, 553, 616, 777, 784, 959, 973, 987]"
            ]
          },
          "metadata": {},
          "execution_count": 23
        }
      ]
    },
    {
      "cell_type": "code",
      "source": [
        "input3 = [\n",
        "    275, 486, 861, 464, 208, 982, 741, 424, 46, 78, 940, 893, 86, 901, 431,\n",
        "    161, 672, 383, 277, 189, 489, 814, 297, 450, 199, 362, 910, 212, 923,\n",
        "    100, 657, 16, 259, 942, 811, 880, 538, 142, 212, 369, 329, 738, 249,\n",
        "    783, 864, 850, 2, 301, 817, 256, 250, 944, 942, 466, 947, 97, 838, 811,\n",
        "    849, 679, 103, 179, 864, 665, 16, 768, 295, 565, 447, 355, 512, 763, 701,\n",
        "    908, 6, 543, 994, 725, 866, 964, 161, 101, 137, 586,  632, 356, 5, 755,\n",
        "    229, 348, 873, 505, 761, 616, 628, 884, 995, 654, 987, 650 ]\n",
        "\n",
        "numerosDiv7(input3)"
      ],
      "metadata": {
        "id": "dc1255knYt5x",
        "colab": {
          "base_uri": "https://localhost:8080/"
        },
        "outputId": "046d0b21-4f82-4704-aa12-9546a61a1f4d"
      },
      "execution_count": null,
      "outputs": [
        {
          "output_type": "execute_result",
          "data": {
            "text/plain": [
              "[161, 189, 259, 301, 329, 616, 665, 672, 679, 763, 861, 910, 987, 994]"
            ]
          },
          "metadata": {},
          "execution_count": 22
        }
      ]
    },
    {
      "cell_type": "markdown",
      "source": [
        "# Remoção de espaços extras de strings"
      ],
      "metadata": {
        "id": "xyrjh7BIt82_"
      }
    },
    {
      "cell_type": "markdown",
      "source": [
        "É comum em sistemas de cadastro, os clientes preencherem dados com caracteres ou espaços indesejáveis. Sendo assim, implemente uma função remove_espaco(listaStrings) que recebe uma lista de strings e retire espaços extras que possam haver no início, meio ou no fim de uma string.\n",
        "\n",
        "Por exemplo,\n",
        "\n",
        "entrada: ```[\"  string\", \"  exemplo  \", \"do   exercício\"]```\n",
        "\n",
        "saída: ```[\"string\", \"exemplo\", \"do exercício\"]```"
      ],
      "metadata": {
        "id": "WydRQ9jat9Ed"
      }
    },
    {
      "cell_type": "markdown",
      "source": [
        "#### Resposta"
      ],
      "metadata": {
        "id": "xiVU1sv6uBCF"
      }
    },
    {
      "cell_type": "code",
      "source": [
        "def remove_espacos(strings:list[str]) -> list[str]:\n",
        "  # Não pode ser usado string.strip() pois deve-se remover também\n",
        "  # espaços excedentes no meio. E não pode ser usado string.replace(' ', '')\n",
        "  # pois deve ficar 1 espaço entre cada palavra\n",
        "  novas_strings = [' '.join( string.split() ) for string in strings]\n",
        "\n",
        "  return novas_strings"
      ],
      "metadata": {
        "id": "NHv_7UMxuBVO"
      },
      "execution_count": 11,
      "outputs": []
    },
    {
      "cell_type": "markdown",
      "source": [
        "#### Testes"
      ],
      "metadata": {
        "id": "VJM4XiS8uB29"
      }
    },
    {
      "cell_type": "code",
      "source": [
        "input1 = [\n",
        "  \" letscode\",\n",
        "  \"ada\",\n",
        "  \" computing\",\n",
        "  \"machine   learning\"\n",
        "]\n",
        "\n",
        "remove_espacos(input1)"
      ],
      "metadata": {
        "id": "V_7heJxZuBiN",
        "colab": {
          "base_uri": "https://localhost:8080/"
        },
        "outputId": "c9643675-8ee8-44a7-88e6-0e48df1fce69"
      },
      "execution_count": 12,
      "outputs": [
        {
          "output_type": "execute_result",
          "data": {
            "text/plain": [
              "['letscode', 'ada', 'computing', 'machine learning']"
            ]
          },
          "metadata": {},
          "execution_count": 12
        }
      ]
    },
    {
      "cell_type": "code",
      "source": [
        "input2 =[\n",
        "  \"big  data   \",\n",
        "  \" dados   estruturados\",\n",
        "  \"logica de     programacao \"\n",
        "]\n",
        "\n",
        "remove_espacos(input1)"
      ],
      "metadata": {
        "colab": {
          "base_uri": "https://localhost:8080/"
        },
        "id": "6olKJqUX4lY9",
        "outputId": "b0233ec4-17d6-4410-bd95-25108adad9f4"
      },
      "execution_count": 13,
      "outputs": [
        {
          "output_type": "execute_result",
          "data": {
            "text/plain": [
              "['letscode', 'ada', 'computing', 'machine learning']"
            ]
          },
          "metadata": {},
          "execution_count": 13
        }
      ]
    },
    {
      "cell_type": "code",
      "source": [
        "input3 = [\n",
        "  \"SP\",\n",
        "  \"RJ \",\n",
        "  \"PB\",\n",
        "  \"PE \"\n",
        "]\n",
        "\n",
        "remove_espacos(input1)"
      ],
      "metadata": {
        "colab": {
          "base_uri": "https://localhost:8080/"
        },
        "id": "vDe6-_gb4knl",
        "outputId": "942c5eff-dd35-4659-fde2-68b3ca636f8a"
      },
      "execution_count": 14,
      "outputs": [
        {
          "output_type": "execute_result",
          "data": {
            "text/plain": [
              "['letscode', 'ada', 'computing', 'machine learning']"
            ]
          },
          "metadata": {},
          "execution_count": 14
        }
      ]
    }
  ]
}