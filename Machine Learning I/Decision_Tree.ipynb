{
  "nbformat": 4,
  "nbformat_minor": 0,
  "metadata": {
    "colab": {
      "provenance": [],
      "authorship_tag": "ABX9TyOXXIYd+1D6zabV0tGUL2Eu"
    },
    "kernelspec": {
      "name": "python3",
      "display_name": "Python 3"
    },
    "language_info": {
      "name": "python"
    }
  },
  "cells": [
    {
      "cell_type": "markdown",
      "source": [
        "# Configuração do ambiente"
      ],
      "metadata": {
        "id": "kpcOZHSGP2Se"
      }
    },
    {
      "cell_type": "code",
      "execution_count": 1,
      "metadata": {
        "id": "qtlOcmPWH_4T"
      },
      "outputs": [],
      "source": [
        "import pandas as pd\n",
        "import numpy as np\n",
        "import matplotlib.pyplot as plt\n",
        "from math import sqrt\n",
        "from typing import Dict\n",
        "from time import time\n",
        "\n",
        "from sklearn.datasets import load_iris\n",
        "from sklearn.model_selection import train_test_split\n",
        "from sklearn.tree import DecisionTreeClassifier\n",
        "from sklearn.metrics import accuracy_score"
      ]
    },
    {
      "cell_type": "markdown",
      "source": [
        "# Obtenção dos Dados"
      ],
      "metadata": {
        "id": "rcqcd5B-P-Rd"
      }
    },
    {
      "cell_type": "code",
      "source": [
        "size = 100\n",
        "# Dados de entrada sobre as frutas para a geração dos dados aleatórios.\n",
        "inputs = [{'Class':     'Banana', 'Mean_height': 18, 'Std_height':   3, 'Mean_width':  5, 'Std_width':   1},\n",
        "          {'Class':      'Apple', 'Mean_height': 10, 'Std_height': 1.5, 'Mean_width': 12, 'Std_width': 1.5},\n",
        "          {'Class':      'Lemon', 'Mean_height':  5, 'Std_height':   1, 'Mean_width':  5, 'Std_width':   1},\n",
        "          {'Class': 'Watermelon', 'Mean_height': 20, 'Std_height': 2.5, 'Mean_width': 25, 'Std_width':   3},\n",
        "          {'Class':     'Papaya', 'Mean_height': 28, 'Std_height':   3, 'Mean_width': 15, 'Std_width':   2},\n",
        "          {'Class':      'Mango', 'Mean_height': 17, 'Std_height': 1.5, 'Mean_width': 12, 'Std_width': 1.5},\n",
        "          {'Class': 'Strawberry', 'Mean_height':  4, 'Std_height': 0.5, 'Mean_width':  2, 'Std_width': 0.5},\n",
        "          {'Class':      'Grape', 'Mean_height':  2, 'Std_height': 0.5, 'Mean_width':  2, 'Std_width': 0.5}]\n",
        "\n",
        "heights = np.array([])\n",
        "widths = np.array([])\n",
        "classes = []\n",
        "# Para cada entrada, acessa a média e o desvio padrão da altura e largura de cada\n",
        "# fruta e gera uma amostra com base da distribuição normal desses dados.\n",
        "for input_i in inputs:\n",
        "  loc_h   = input_i['Mean_height']\n",
        "  scale_h = input_i['Std_height']\n",
        "  height = np.random.normal(loc=loc_h, scale=scale_h, size=size)\n",
        "  heights = np.concatenate([heights, height])\n",
        "\n",
        "  loc_w   = input_i['Mean_width']\n",
        "  scale_w = input_i['Std_width']\n",
        "  width  = np.random.normal(loc=loc_w, scale=scale_w, size=size)\n",
        "  widths = np.concatenate([widths, width])\n",
        "\n",
        "  class_i = {\n",
        "      'Banana': 0,\n",
        "      'Apple': 1,\n",
        "      'Lemon': 2,\n",
        "      'Watermelon': 3,\n",
        "      'Papaya': 4,\n",
        "      'Mango': 5,\n",
        "      'Strawberry': 5,\n",
        "      'Grape': 6\n",
        "  }[input_i['Class']]\n",
        "\n",
        "  classes += [class_i] * size\n",
        "\n",
        "classes = np.array(classes)\n",
        "\n",
        "# Junta os dois arrays e transpôe\n",
        "data = np.vstack((heights, widths)).T\n",
        "data"
      ],
      "metadata": {
        "colab": {
          "base_uri": "https://localhost:8080/"
        },
        "id": "fAhpbqDoINQt",
        "outputId": "8dfb2a6a-210b-4233-e884-d46af2809f97"
      },
      "execution_count": 88,
      "outputs": [
        {
          "output_type": "execute_result",
          "data": {
            "text/plain": [
              "array([[15.37695708,  7.09735538],\n",
              "       [17.76967499,  6.02249663],\n",
              "       [20.30115499,  4.42510384],\n",
              "       ...,\n",
              "       [ 2.938452  ,  2.62362593],\n",
              "       [ 3.48533781,  1.60582745],\n",
              "       [ 2.76358718,  1.73173853]])"
            ]
          },
          "metadata": {},
          "execution_count": 88
        }
      ]
    },
    {
      "cell_type": "markdown",
      "source": [
        "# Teste com SKlearn"
      ],
      "metadata": {
        "id": "KLsIUwukP7Et"
      }
    },
    {
      "cell_type": "code",
      "source": [
        "st = time()\n",
        "\n",
        "X = data\n",
        "y = classes\n",
        "\n",
        "# Dividir o conjunto de dados em treinamento e teste\n",
        "X_train, X_test, y_train, y_test = train_test_split(X, y, test_size=0.2, random_state=42)\n",
        "\n",
        "# Criar o classificador de árvore de decisão\n",
        "clf = DecisionTreeClassifier()\n",
        "\n",
        "# Treinar o classificador com os dados de treinamento\n",
        "clf.fit(X_train, y_train)\n",
        "\n",
        "# Fazer previsões no conjunto de teste\n",
        "y_pred = clf.predict(X_test)\n",
        "\n",
        "# Calcular a precisão das previsões\n",
        "accuracy = accuracy_score(y_test, y_pred)\n",
        "\n",
        "print(f'A precisão do classificador de árvore de decisão é: {accuracy}')\n",
        "\n",
        "print(f'Tempo de execução: {time()-st} Segundos')"
      ],
      "metadata": {
        "colab": {
          "base_uri": "https://localhost:8080/"
        },
        "id": "8wk07yyxK3Qp",
        "outputId": "6bfb3ec6-6f70-4420-9fa8-4f1e0fb388b1"
      },
      "execution_count": 65,
      "outputs": [
        {
          "output_type": "stream",
          "name": "stdout",
          "text": [
            "A precisão do classificador de árvore de decisão é: 0.99375\n",
            "Tempo de execução: 0.04439854621887207 Segundos\n"
          ]
        }
      ]
    },
    {
      "cell_type": "markdown",
      "source": [
        "# Implementação"
      ],
      "metadata": {
        "id": "4Drbzq0UQCO-"
      }
    },
    {
      "cell_type": "code",
      "source": [
        "class Node:\n",
        "  def __init__(self, mask: np.array):\n",
        "    self.mask = mask\n",
        "    self.leaves = list()\n",
        "\n",
        "  def add_leaf(self, mask):\n",
        "    new_mask = [m_i & m_j for m_i, m_j in zip(self.mask, mask)]\n",
        "    new_node = Node(new_mask)\n",
        "    self.leaves.append(new_node)\n",
        "    return new_node"
      ],
      "metadata": {
        "id": "NtE7qI65yzlb"
      },
      "execution_count": 192,
      "outputs": []
    },
    {
      "cell_type": "code",
      "source": [
        "class Tree:\n",
        "  def __init__(self, data: np.array, classes: np.array, indice: str = 'Gini'):\n",
        "    self.data = data\n",
        "    self.classes = classes\n",
        "    # Inicializa a raiz com uma máscara que é toda True.\n",
        "    self.root = Node(np.full(data.shape[0], True))\n",
        "\n",
        "    self.fit(self.root)\n",
        "\n",
        "\n",
        "  def fit(self, node: Node, n_intervals: int = 11, limit: float = 0.2):\n",
        "\n",
        "    # Acessa as restrições do ramo\n",
        "    mask = node.mask\n",
        "\n",
        "    n_features = self.data.shape[1]\n",
        "\n",
        "    min_impureza = 1\n",
        "    best_feature = 0\n",
        "    best_interval = 0\n",
        "    for feature in range(n_features):\n",
        "      # Pega o min e o max de cada coluna e divide em n intervalos\n",
        "      x_min = np.min(data[:,feature])\n",
        "      x_max = np.max(data[:,feature])\n",
        "      step = (x_max-x_min)/n_intervals\n",
        "      intervals = np.arange(x_min+step, x_max, step)\n",
        "      # Calcula a impureza de cada intervalo\n",
        "      for x in intervals:\n",
        "        '''\n",
        "        maski: uma máscara booleana que analisa se a coluna i é <= ou > que x.\n",
        "        pi: partição dos dados que atendem à máscara booleana.\n",
        "        ci: partição das classes que atendem à máscara booleana.\n",
        "        Ao sobrescrever ci por np.bincount(c1), é realizada a contagem de cada classe.\n",
        "        gi: a impureza da partição i.\n",
        "        '''\n",
        "        # -> Primeira partição\n",
        "        mask1 = self.data[:, feature] <= x\n",
        "        # Junta a nova máscara com a máscara princial\n",
        "        mask1 = [m_i & m_j for m_i, m_j in zip(mask, mask1)]\n",
        "        p1 = self.data[:, feature][mask1]\n",
        "        c1 = self.classes[mask1]\n",
        "        c1 = np.bincount(c1)\n",
        "        s1 = sum(c1) # Total de elementos em p1\n",
        "        g1 = 1 - sum([(i/s1)**2 for i in c1])\n",
        "        # -> Segunda partição\n",
        "        mask2 = self.data[:, feature]  > x\n",
        "        # Junta a nova máscara com a máscara princial\n",
        "        mask2 = [m_i & m_j for m_i, m_j in zip(mask, mask2)]\n",
        "        p2 = self.data[:, feature][mask2]\n",
        "        c2 = self.classes[mask2]\n",
        "        c2 = np.bincount(c2)\n",
        "        s2 = sum(c2) # Total de elementos em p2\n",
        "        g2 = 1 - sum([(i/s2)**2 for i in c2])\n",
        "        # Total de elementos\n",
        "        total = s1 + s2\n",
        "\n",
        "        impureza_media = (g1*s1 + g2*s2) / total\n",
        "        if impureza_media < min_impureza:\n",
        "          min_impureza = impureza_media\n",
        "          best_feature = feature\n",
        "          best_interval = x\n",
        "\n",
        "    node1 = node.add_leaf(mask1)\n",
        "    if g1 > limit:\n",
        "      self.fit(node1)\n",
        "    node2 = node.add_leaf(mask2)\n",
        "    if g2 > limit:\n",
        "      self.fit(node2)\n",
        "    # Cria os dois novos nós\n",
        "    return min_impureza, best_feature"
      ],
      "metadata": {
        "id": "7dxRJ-bTLH81"
      },
      "execution_count": 200,
      "outputs": []
    },
    {
      "cell_type": "code",
      "source": [
        "x = Tree(data, classes)"
      ],
      "metadata": {
        "id": "6d6CSepW9qtO"
      },
      "execution_count": 202,
      "outputs": []
    },
    {
      "cell_type": "code",
      "source": [],
      "metadata": {
        "id": "l8Tm4AZ69-2m"
      },
      "execution_count": 202,
      "outputs": []
    }
  ]
}