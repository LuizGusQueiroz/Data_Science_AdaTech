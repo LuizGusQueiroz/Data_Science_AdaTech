{
  "nbformat": 4,
  "nbformat_minor": 0,
  "metadata": {
    "colab": {
      "provenance": [],
      "authorship_tag": "ABX9TyNS81WZpVVGq514ruKLCStX"
    },
    "kernelspec": {
      "name": "python3",
      "display_name": "Python 3"
    },
    "language_info": {
      "name": "python"
    }
  },
  "cells": [
    {
      "cell_type": "markdown",
      "source": [
        "# Configuração do ambiente"
      ],
      "metadata": {
        "id": "kpcOZHSGP2Se"
      }
    },
    {
      "cell_type": "code",
      "execution_count": 264,
      "metadata": {
        "id": "qtlOcmPWH_4T"
      },
      "outputs": [],
      "source": [
        "import pandas as pd\n",
        "import numpy as np\n",
        "import matplotlib.pyplot as plt\n",
        "from math import sqrt\n",
        "from typing import Dict\n",
        "from time import time\n",
        "from sys import maxsize as inf\n",
        "\n",
        "from sklearn.datasets import load_iris\n",
        "from sklearn.model_selection import train_test_split\n",
        "from sklearn.tree import DecisionTreeClassifier\n",
        "from sklearn.metrics import accuracy_score"
      ]
    },
    {
      "cell_type": "markdown",
      "source": [
        "# Obtenção dos Dados"
      ],
      "metadata": {
        "id": "rcqcd5B-P-Rd"
      }
    },
    {
      "cell_type": "code",
      "source": [
        "size = 10\n",
        "# Dados de entrada sobre as frutas para a geração dos dados aleatórios.\n",
        "inputs = [{'Class':     'Banana', 'Mean_height': 18, 'Std_height':   3, 'Mean_width':  5, 'Std_width':   1},\n",
        "          {'Class':      'Apple', 'Mean_height': 10, 'Std_height': 1.5, 'Mean_width': 12, 'Std_width': 1.5},\n",
        "          {'Class':      'Lemon', 'Mean_height':  5, 'Std_height':   1, 'Mean_width':  5, 'Std_width':   1},\n",
        "          {'Class': 'Watermelon', 'Mean_height': 20, 'Std_height': 2.5, 'Mean_width': 25, 'Std_width':   3},\n",
        "          {'Class':     'Papaya', 'Mean_height': 28, 'Std_height':   3, 'Mean_width': 15, 'Std_width':   2},\n",
        "          {'Class':      'Mango', 'Mean_height': 17, 'Std_height': 1.5, 'Mean_width': 12, 'Std_width': 1.5},\n",
        "          {'Class': 'Strawberry', 'Mean_height':  4, 'Std_height': 0.5, 'Mean_width':  2, 'Std_width': 0.5},\n",
        "          {'Class':      'Grape', 'Mean_height':  2, 'Std_height': 0.5, 'Mean_width':  2, 'Std_width': 0.5}]\n",
        "\n",
        "heights = np.array([])\n",
        "widths = np.array([])\n",
        "classes = []\n",
        "# Para cada entrada, acessa a média e o desvio padrão da altura e largura de cada\n",
        "# fruta e gera uma amostra com base da distribuição normal desses dados.\n",
        "for input_i in inputs:\n",
        "  loc_h   = input_i['Mean_height']\n",
        "  scale_h = input_i['Std_height']\n",
        "  height = np.random.normal(loc=loc_h, scale=scale_h, size=size)\n",
        "  heights = np.concatenate([heights, height])\n",
        "\n",
        "  loc_w   = input_i['Mean_width']\n",
        "  scale_w = input_i['Std_width']\n",
        "  width  = np.random.normal(loc=loc_w, scale=scale_w, size=size)\n",
        "  widths = np.concatenate([widths, width])\n",
        "\n",
        "  class_i = {\n",
        "      'Banana': 0,\n",
        "      'Apple': 1,\n",
        "      'Lemon': 2,\n",
        "      'Watermelon': 3,\n",
        "      'Papaya': 4,\n",
        "      'Mango': 5,\n",
        "      'Strawberry': 6,\n",
        "      'Grape': 7\n",
        "  }[input_i['Class']]\n",
        "\n",
        "  classes += [class_i] * size\n",
        "\n",
        "classes = np.array(classes)\n",
        "\n",
        "# Junta os dois arrays e transpôe\n",
        "data = np.vstack((heights, widths)).T\n",
        "data"
      ],
      "metadata": {
        "colab": {
          "base_uri": "https://localhost:8080/"
        },
        "id": "fAhpbqDoINQt",
        "outputId": "e89ddaa5-0f5c-428d-b549-cd3c69bbef24"
      },
      "execution_count": 273,
      "outputs": [
        {
          "output_type": "execute_result",
          "data": {
            "text/plain": [
              "array([[15.96292882,  7.54711479],\n",
              "       [18.34849465,  5.37853428],\n",
              "       [22.10415047,  5.62700496],\n",
              "       [17.72725747,  5.60570014],\n",
              "       [16.9231911 ,  5.52845778],\n",
              "       [15.74703489,  4.54209499],\n",
              "       [23.97471754,  7.42498452],\n",
              "       [23.51416707,  6.53520769],\n",
              "       [19.17689468,  6.1575079 ],\n",
              "       [15.558029  ,  6.4151007 ],\n",
              "       [ 6.61316801, 11.05637598],\n",
              "       [10.49060088, 11.71938877],\n",
              "       [ 9.12097828, 11.73439948],\n",
              "       [10.73606558, 12.55556178],\n",
              "       [12.57934685, 12.30597169],\n",
              "       [10.65916816, 11.82736718],\n",
              "       [ 8.4366765 , 11.43438823],\n",
              "       [ 8.24670504, 14.92193047],\n",
              "       [10.18283258, 12.72179616],\n",
              "       [ 8.18772431, 10.95673699],\n",
              "       [ 5.64294079,  5.13056576],\n",
              "       [ 5.17106368,  5.40833071],\n",
              "       [ 5.4360707 ,  7.21124641],\n",
              "       [ 5.78907007,  5.39056635],\n",
              "       [ 3.39149716,  5.24143825],\n",
              "       [ 6.07772827,  4.86805975],\n",
              "       [ 4.15270799,  3.39415219],\n",
              "       [ 5.68932848,  4.23119478],\n",
              "       [ 3.28152996,  4.24789463],\n",
              "       [ 5.90783044,  6.71244859],\n",
              "       [18.50239614, 21.96613809],\n",
              "       [21.93759239, 26.3533621 ],\n",
              "       [19.84455855, 24.19322666],\n",
              "       [18.02765375, 23.7552668 ],\n",
              "       [19.60998289, 21.85260654],\n",
              "       [20.96706866, 24.63078063],\n",
              "       [21.32491223, 23.37762658],\n",
              "       [18.63065221, 21.30452401],\n",
              "       [20.13717566, 26.19992105],\n",
              "       [19.35361774, 20.65020113],\n",
              "       [32.92542617, 13.73681213],\n",
              "       [26.79659361, 14.29290737],\n",
              "       [26.60497407, 13.69408245],\n",
              "       [27.76057518, 16.22896491],\n",
              "       [23.03624588, 15.56747188],\n",
              "       [25.00086044, 10.80327023],\n",
              "       [26.98625297, 16.56557738],\n",
              "       [32.27310904, 14.62372698],\n",
              "       [24.68900077, 14.49327418],\n",
              "       [32.60003189, 14.06322843],\n",
              "       [15.72017422, 12.27533476],\n",
              "       [16.94866948, 13.36268689],\n",
              "       [17.11487596, 12.03400426],\n",
              "       [16.30273884, 13.45786931],\n",
              "       [17.2199742 , 13.33538262],\n",
              "       [15.92263572, 11.69981312],\n",
              "       [15.59738119, 10.09044724],\n",
              "       [18.49974223, 14.30072264],\n",
              "       [17.00535622, 11.64513849],\n",
              "       [17.29730955,  9.65725486],\n",
              "       [ 4.15771603,  2.78954837],\n",
              "       [ 3.77386685,  2.5030378 ],\n",
              "       [ 3.90140493,  1.96284171],\n",
              "       [ 4.91179191,  2.05976822],\n",
              "       [ 4.06902688,  3.14484263],\n",
              "       [ 4.2080595 ,  1.68093878],\n",
              "       [ 3.55171142,  2.4355327 ],\n",
              "       [ 4.13082871,  1.99777949],\n",
              "       [ 4.23510086,  2.74757714],\n",
              "       [ 4.07486772,  2.21695115],\n",
              "       [ 1.39768385,  2.00715636],\n",
              "       [ 1.78776503,  1.30395297],\n",
              "       [ 0.99683392,  0.69986685],\n",
              "       [ 1.40008465,  1.82185295],\n",
              "       [ 2.40450577,  1.8761364 ],\n",
              "       [ 1.8486495 ,  2.14113184],\n",
              "       [ 2.20942704,  1.2841527 ],\n",
              "       [ 1.98875606,  2.13947339],\n",
              "       [ 1.44610303,  2.15248207],\n",
              "       [ 1.25423679,  1.39167884]])"
            ]
          },
          "metadata": {},
          "execution_count": 273
        }
      ]
    },
    {
      "cell_type": "markdown",
      "source": [
        "# Teste com SKlearn"
      ],
      "metadata": {
        "id": "KLsIUwukP7Et"
      }
    },
    {
      "cell_type": "code",
      "source": [
        "st = time()\n",
        "\n",
        "X = data\n",
        "y = classes\n",
        "\n",
        "# Dividir o conjunto de dados em treinamento e teste\n",
        "X_train, X_test, y_train, y_test = train_test_split(X, y, test_size=0.2, random_state=42)\n",
        "\n",
        "# Criar o classificador de árvore de decisão\n",
        "clf = DecisionTreeClassifier()\n",
        "\n",
        "# Treinar o classificador com os dados de treinamento\n",
        "clf.fit(X_train, y_train)\n",
        "\n",
        "# Fazer previsões no conjunto de teste\n",
        "y_pred = clf.predict(X_test)\n",
        "\n",
        "# Calcular a precisão das previsões\n",
        "accuracy = accuracy_score(y_test, y_pred)\n",
        "\n",
        "print(f'A precisão do classificador de árvore de decisão é: {accuracy}')\n",
        "\n",
        "print(f'Tempo de execução: {time()-st} Segundos')"
      ],
      "metadata": {
        "colab": {
          "base_uri": "https://localhost:8080/"
        },
        "id": "8wk07yyxK3Qp",
        "outputId": "3c29ddfe-d3cb-460a-cb69-1b4ce79dafce"
      },
      "execution_count": 183,
      "outputs": [
        {
          "output_type": "stream",
          "name": "stdout",
          "text": [
            "A precisão do classificador de árvore de decisão é: 0.875\n",
            "Tempo de execução: 0.009490966796875 Segundos\n"
          ]
        }
      ]
    },
    {
      "cell_type": "markdown",
      "source": [
        "# Implementação"
      ],
      "metadata": {
        "id": "4Drbzq0UQCO-"
      }
    },
    {
      "cell_type": "code",
      "source": [
        "class Node:\n",
        "  def __init__(self, mask: np.array, depth: int, parent = None,\n",
        "               feature: int = 0, x: float = 0, direcao: str = '>'):\n",
        "    self.mask = mask\n",
        "    self.depth = depth\n",
        "    self.parent = parent\n",
        "    self.feature = feature\n",
        "    self.x = x\n",
        "    self.direcao = direcao\n",
        "    self.leaves = list()\n",
        "\n",
        "  def add_leaf(self, mask, feature, x, direcao: str):\n",
        "    # Junta a máscara atual com a do filho\n",
        "    new_mask = [m_i and m_j for m_i, m_j in zip(self.mask, mask)]\n",
        "\n",
        "    new_node = Node(new_mask, self.depth + 1, self, feature, x, direcao)\n",
        "    self.leaves.append(new_node)\n",
        "    return new_node\n"
      ],
      "metadata": {
        "id": "NtE7qI65yzlb"
      },
      "execution_count": 203,
      "outputs": []
    },
    {
      "cell_type": "code",
      "source": [
        "class Tree:\n",
        "  def __init__(self, data: np.array, classes: np.array, indice: str = 'Gini'):\n",
        "    self.data = data\n",
        "    self.classes = classes\n",
        "    # Inicializa a raiz com uma máscara que é toda True.\n",
        "    self.root = Node(np.full(data.shape[0], True), depth=0)\n",
        "\n",
        "    self.fit(self.root)\n",
        "\n",
        "\n",
        "  def fit(self, node: Node, n_intervals: int = 21, limit: float = 0.2) -> None:\n",
        "\n",
        "    # Acessa as restrições do ramo\n",
        "    mask = node.mask\n",
        "\n",
        "    n_features = self.data.shape[1]\n",
        "\n",
        "    min_impureza = 1\n",
        "    best_feature = 0\n",
        "    best_interval = 0\n",
        "    for feature in range(n_features):\n",
        "      # Pega o min e o max de cada coluna e divide em n intervalos\n",
        "      x_min = np.min(data[:,feature])\n",
        "      x_max = np.max(data[:,feature])\n",
        "      step = (x_max-x_min)/n_intervals\n",
        "      intervals = np.arange(x_min+step, x_max, step)\n",
        "      # Calcula a impureza de cada intervalo\n",
        "      for x in intervals:\n",
        "        '''\n",
        "        mask_i: uma máscara booleana que analisa se a coluna i é <= ou > que x.\n",
        "        c_i: partição das classes que atendem à máscara booleana.\n",
        "        Ao sobrescrever c_i por np.bincount(c_i), é realizada a contagem de cada classe.\n",
        "        g_i: a impureza da partição i.\n",
        "        '''\n",
        "        # -> Primeira partição\n",
        "        mask1 = self.data[:, feature] <= x\n",
        "        # Junta a nova máscara com a máscara princial\n",
        "        mask1 = np.array([m_i and m_j for m_i, m_j in zip(mask, mask1)])\n",
        "        c1 = self.classes[mask1]\n",
        "        c1 = np.bincount(c1)\n",
        "        s1 = sum(c1) # Total de elementos na partição\n",
        "        g1 = 1 - sum([(i/s1)**2 for i in c1])\n",
        "\n",
        "        # -> Segunda partição\n",
        "        mask2 = self.data[:, feature]  > x\n",
        "        # Junta a nova máscara com a máscara princial\n",
        "        mask2 = [m_i and m_j for m_i, m_j in zip(mask, mask2)]\n",
        "        c2 = self.classes[mask2]\n",
        "        c2 = np.bincount(c2)\n",
        "        s2 = sum(c2) # Total de elementos na partição\n",
        "        g2 = 1 - sum([(i/s2)**2 for i in c2])\n",
        "\n",
        "        # Total de elementos\n",
        "        total = s1 + s2\n",
        "        if total == 0: return\n",
        "\n",
        "        impureza_media = (g1*s1 + g2*s2) / total\n",
        "        if impureza_media < min_impureza:\n",
        "          min_impureza = impureza_media\n",
        "          best_feature = feature\n",
        "          best_interval = x\n",
        "\n",
        "\n",
        "    # Calcula a impureza do primeiro nó\n",
        "    mask1 = self.data[:, best_feature] <= best_interval\n",
        "    node1 = node.add_leaf(mask1, best_feature, best_interval, '<')\n",
        "    mask1 = node1.mask\n",
        "\n",
        "    c1 = self.classes[mask1]\n",
        "    c1 = np.bincount(c1)\n",
        "    s1 = sum(c1) # Total de elementos na partição\n",
        "    g1 = 1 - sum([(i/s1)**2 for i in c1])\n",
        "\n",
        "    if g1 > limit:\n",
        "      self.fit(node1)\n",
        "\n",
        "    # Calcula a impureza do segundo nó\n",
        "    mask2 = self.data[:, best_feature]  > best_interval\n",
        "    node2 = node.add_leaf(mask2, best_feature, best_interval, '>')\n",
        "    mask2 = node2.mask\n",
        "\n",
        "    c2 = self.classes[mask2]\n",
        "    c2 = np.bincount(c2)\n",
        "    s2 = sum(c2) # Total de elementos na partição\n",
        "    g2 = 1 - sum([(i/s2)**2 for i in c2])\n",
        "\n",
        "    if g2 > limit:\n",
        "      self.fit(node2)\n",
        "\n",
        "\n",
        "\n",
        "  def show(self, colors_dict):\n",
        "\n",
        "    # Obtém as cores de cada classe\n",
        "    colors = [colors_dict[class_i] for class_i in self.classes]\n",
        "    #colors = self.classes.map(colors_dict)\n",
        "\n",
        "    # Gera o gráfico de dispersão\n",
        "    plt.scatter(self.data[:, 1], self.data[:, 0], c=colors, s=30)\n",
        "\n",
        "    plt.title('Altura e Largura de cada fruta')\n",
        "\n",
        "    plt.xlabel('Width (cm)')\n",
        "    plt.xlim(0, 40)\n",
        "    plt.xticks(range(0, 40, 2))\n",
        "\n",
        "    plt.ylabel('Height (cm)')\n",
        "    plt.ylim(0, 40)\n",
        "    plt.yticks(range(0, 40, 2))\n",
        "\n",
        "    # Adiciona as linhas no gráfico\n",
        "    nodes = [self.root]\n",
        "    while nodes:\n",
        "      # Retorna o primeiro elemento de nodes\n",
        "      node = nodes.pop(0)\n",
        "      # Adiciona os filhos do nó na lista de nós\n",
        "      nodes.extend(node.leaves)\n",
        "\n",
        "      # Verifica de onde até onde irá a sua  linha\n",
        "      lim_inf =  inf\n",
        "      lim_sup = -inf\n",
        "      if node.parent is not None:\n",
        "      # Guarda todos os ascendentes do nó, até chegar na raiz\n",
        "        parents = [node.parent]\n",
        "        while parents[-1].parent is not None:\n",
        "          parents.append(parents[-1].parent)\n",
        "        # Guarda apenas os pais com restrições em outro sentido\n",
        "        parents = [parent for parent in parents if parent.feature != node.feature]\n",
        "        for parent in parents:\n",
        "          if parent.direcao == '<':\n",
        "            lim_sup = max(lim_sup, parent.x)\n",
        "          elif parent.direcao == '>':\n",
        "            lim_inf = min(lim_inf, parent.x)\n",
        "      '''\n",
        "      Verifica se os limites iniciais foram alterados, caso  não tenham sido,\n",
        "      não há limites neste sentido, então os limites passam a ser -inf ou +inf\n",
        "      '''\n",
        "      if lim_inf ==  inf:\n",
        "        lim_inf = -inf\n",
        "      if lim_sup == -inf:\n",
        "        lim_sup =  inf\n",
        "\n",
        "      # Traça uma linha horizontal ou vertical a depender da feature\n",
        "      if node.feature == 0:\n",
        "        plt.axhline(y=node.x, xmin=lim_inf/plt.xlim()[1], xmax=lim_sup/plt.xlim()[1], color='black', linestyle='--')\n",
        "      elif node.feature == 1:\n",
        "        plt.axvline(x=node.x, ymin=lim_inf/plt.ylim()[1], ymax=lim_sup/plt.xlim()[1], color='black', linestyle='--')\n",
        "\n",
        "    # Adiciona a legenda ao gráfico\n",
        "    legend = []\n",
        "    for class_i, color in colors_dict.items():\n",
        "        legend.append(plt.Line2D([0], [0], marker='o', color='w', label=class_i,\n",
        "                                 markersize=10, markerfacecolor=color))\n",
        "    plt.legend(handles=legend)\n",
        "\n",
        "    plt.show()"
      ],
      "metadata": {
        "id": "7dxRJ-bTLH81"
      },
      "execution_count": 271,
      "outputs": []
    },
    {
      "cell_type": "code",
      "source": [
        "x = Tree(data, classes)"
      ],
      "metadata": {
        "id": "GcV4KPdVUjJ-"
      },
      "execution_count": 274,
      "outputs": []
    },
    {
      "cell_type": "code",
      "source": [
        "x.show({0: (1,    1,    0),\n",
        "        1: (0,    1,    0),\n",
        "        2: (1,  0.9,    0),\n",
        "        3: (0,  0.3,    0),\n",
        "        4: (1, 0.45, 0.19),\n",
        "        5: (1,  0.5, 0.45),\n",
        "        6: (1,    0,    0),\n",
        "        7: (1,    0,    1)})"
      ],
      "metadata": {
        "id": "l8Tm4AZ69-2m",
        "colab": {
          "base_uri": "https://localhost:8080/",
          "height": 472
        },
        "outputId": "1fe63232-bb6c-4a37-cfad-0218db1ca97e"
      },
      "execution_count": 275,
      "outputs": [
        {
          "output_type": "display_data",
          "data": {
            "text/plain": [
              "<Figure size 640x480 with 1 Axes>"
            ],
            "image/png": "[encoded data removed]"
          },
          "metadata": {}
        }
      ]
    }
  ]
}