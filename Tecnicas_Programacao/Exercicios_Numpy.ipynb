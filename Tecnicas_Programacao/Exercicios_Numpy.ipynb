{
  "cells": [
    {
      "cell_type": "markdown",
      "metadata": {
        "id": "oNWnChHtM2Ar"
      },
      "source": [
        "# NumPy"
      ]
    },
    {
      "cell_type": "markdown",
      "metadata": {
        "id": "-mi6PYCzM2Ar"
      },
      "source": [
        "## Exercícios"
      ]
    },
    {
      "cell_type": "markdown",
      "metadata": {
        "id": "OUwr8pNGM2As"
      },
      "source": [
        "### Exercício 1)\n",
        "Utilize comprehension para gerar a lista de todos os números interios entre 0 e 19. Converta a lista em um <font color='blue'>numpy</font> array bidimensional (matriz) com 4 linhas e 5 colunas."
      ]
    },
    {
      "cell_type": "code",
      "source": [
        "import numpy as np"
      ],
      "metadata": {
        "id": "Lm_Pa6I6Q2R-"
      },
      "execution_count": null,
      "outputs": []
    },
    {
      "cell_type": "code",
      "source": [
        "numeros_list = [num for num in range(20)] # Cria a lista usando list comprehension\n",
        "numeros_arr = np.array(numeros_list)      # Converte para um numpy array\n",
        "numeros_arr = numeros_arr.reshape((4, 5)) # Redimensiona para 4 linhas e 5 colunas\n",
        "numeros_arr"
      ],
      "metadata": {
        "colab": {
          "base_uri": "https://localhost:8080/"
        },
        "id": "-nMMzviMQcMw",
        "outputId": "6929d92e-d3a5-491c-aeab-2fd3cf5992c0"
      },
      "execution_count": null,
      "outputs": [
        {
          "output_type": "execute_result",
          "data": {
            "text/plain": [
              "array([[ 0,  1,  2,  3,  4],\n",
              "       [ 5,  6,  7,  8,  9],\n",
              "       [10, 11, 12, 13, 14],\n",
              "       [15, 16, 17, 18, 19]])"
            ]
          },
          "metadata": {},
          "execution_count": 24
        }
      ]
    },
    {
      "cell_type": "markdown",
      "metadata": {
        "id": "1zsMUfPcM2As"
      },
      "source": [
        "### Exercício 2)\n",
        "Construa um array unidimensional com 30 números inteiros escolhidos de forma randômica no intervalo entre 0 e 20. Reformate o array para que se torne uma matriz `A` com 5 linhas e 6 colunas."
      ]
    },
    {
      "cell_type": "code",
      "source": [
        "arr = np.random.randint(0, 21, 30) # Cria um array com números aleatórios\n",
        "A = arr.reshape((5, 6))            # Redimensiona para 5 linhas e 6 colunas\n",
        "A"
      ],
      "metadata": {
        "colab": {
          "base_uri": "https://localhost:8080/"
        },
        "id": "z-p5WRbjRiCW",
        "outputId": "fd090eba-a1e0-4cf4-a5b9-4be4b00a84fa"
      },
      "execution_count": null,
      "outputs": [
        {
          "output_type": "execute_result",
          "data": {
            "text/plain": [
              "array([[13,  7,  0, 20,  7, 14],\n",
              "       [11,  4,  6, 12, 12, 13],\n",
              "       [ 2, 17, 16, 10,  1,  1],\n",
              "       [ 9,  4,  1,  1, 13, 15],\n",
              "       [ 2, 17,  2, 11,  3,  0]])"
            ]
          },
          "metadata": {},
          "execution_count": 25
        }
      ]
    },
    {
      "cell_type": "markdown",
      "metadata": {
        "id": "eWheffhnM2As"
      },
      "source": [
        "### Exercício 3)\n",
        "Crie uma __view__ da matriz `A` gerada na célula anterior contendo:\n",
        "- as linhas de `A` com índices 0,1 e 3\n",
        "- as linhas de `A` com índice 1 e 2 e as colunas com índice 0,2 e 4\n",
        "- as linhas de `A` com índice 1 e 3 e as colunas com índice 1 e 3"
      ]
    },
    {
      "cell_type": "code",
      "source": [
        "arr = A.copy()\n",
        "arr"
      ],
      "metadata": {
        "colab": {
          "base_uri": "https://localhost:8080/"
        },
        "id": "3FX1vdniSSrc",
        "outputId": "1e6db6c7-b63b-4a73-f3ec-64ead9bdfd02"
      },
      "execution_count": null,
      "outputs": [
        {
          "output_type": "execute_result",
          "data": {
            "text/plain": [
              "array([[13,  7,  0, 20,  7, 14],\n",
              "       [11,  4,  6, 12, 12, 13],\n",
              "       [ 2, 17, 16, 10,  1,  1],\n",
              "       [ 9,  4,  1,  1, 13, 15],\n",
              "       [ 2, 17,  2, 11,  3,  0]])"
            ]
          },
          "metadata": {},
          "execution_count": 26
        }
      ]
    },
    {
      "cell_type": "code",
      "source": [
        "arr1 = A.copy()\n",
        "arr1 = arr[[0, 1, 3]]\n",
        "arr1"
      ],
      "metadata": {
        "colab": {
          "base_uri": "https://localhost:8080/"
        },
        "id": "Xi9jZCifSoOU",
        "outputId": "d4c3d509-33f9-46bf-bc82-32e1419b4d81"
      },
      "execution_count": null,
      "outputs": [
        {
          "output_type": "execute_result",
          "data": {
            "text/plain": [
              "array([[13,  7,  0, 20,  7, 14],\n",
              "       [11,  4,  6, 12, 12, 13],\n",
              "       [ 9,  4,  1,  1, 13, 15]])"
            ]
          },
          "metadata": {},
          "execution_count": 27
        }
      ]
    },
    {
      "cell_type": "code",
      "source": [
        "arr2 = A.copy()\n",
        "arr2 = arr2[[1, 2]][:, [0, 2, 4]]\n",
        "arr2"
      ],
      "metadata": {
        "colab": {
          "base_uri": "https://localhost:8080/"
        },
        "id": "XsGQ_SsfCaqP",
        "outputId": "3e19e1c5-5e2b-4d1a-ad9b-1ae645acb3c4"
      },
      "execution_count": null,
      "outputs": [
        {
          "output_type": "execute_result",
          "data": {
            "text/plain": [
              "array([[11,  6, 12],\n",
              "       [ 2, 16,  1]])"
            ]
          },
          "metadata": {},
          "execution_count": 32
        }
      ]
    },
    {
      "cell_type": "code",
      "source": [
        "arr3 = A.copy()\n",
        "arr3 = arr3[[1, 3]][:, [1, 3]]\n",
        "arr3"
      ],
      "metadata": {
        "colab": {
          "base_uri": "https://localhost:8080/"
        },
        "id": "Zr4jD0JvDDJt",
        "outputId": "d814d07d-d8ea-4fb2-82d9-f82521c766de"
      },
      "execution_count": null,
      "outputs": [
        {
          "output_type": "execute_result",
          "data": {
            "text/plain": [
              "array([[ 4, 12],\n",
              "       [ 4,  1]])"
            ]
          },
          "metadata": {},
          "execution_count": 33
        }
      ]
    },
    {
      "cell_type": "markdown",
      "metadata": {
        "id": "V9qARQ7BM2As"
      },
      "source": [
        "### Exercício 4)\n",
        "Construa um array `A` bidimensional 5x6 com 30 números inteiros escolhidos de forma randômica no intervalo entre 0 e 20.\n",
        "- faça uma cópia do array `A` criado, chamando a cópia de `Ac`\n",
        "- Substitua todos os elementos do array `A` que sejam maiores que 10 pelo valor -1\n",
        "- Substitua todos os elementos do array `Ac` que sejam maiores que 7 e menores que 15 pelo valor -1\n",
        "\n",
        "__Dica:__ Gere máscaras booleanas para realizar as modificações nos arrays."
      ]
    },
    {
      "cell_type": "code",
      "source": [
        "A = np.random.randint(0, 20, 30)\n",
        "A = A.reshape((5, 6))\n",
        "A"
      ],
      "metadata": {
        "colab": {
          "base_uri": "https://localhost:8080/"
        },
        "id": "TEHDeW2-DxiL",
        "outputId": "e1c293cf-bf0f-4379-f1ce-b7cb6c4e59fa"
      },
      "execution_count": null,
      "outputs": [
        {
          "output_type": "execute_result",
          "data": {
            "text/plain": [
              "array([[ 0, 17,  2,  0, 14,  4],\n",
              "       [16,  5,  0, 14, 12,  6],\n",
              "       [18, 11, 15,  6,  1,  4],\n",
              "       [ 3,  1,  5, 14,  7,  6],\n",
              "       [ 1, 14,  2,  5,  1, 19]])"
            ]
          },
          "metadata": {},
          "execution_count": 26
        }
      ]
    },
    {
      "cell_type": "code",
      "source": [
        "Ac = A.copy()"
      ],
      "metadata": {
        "id": "-WDBhrC5EDmq"
      },
      "execution_count": null,
      "outputs": []
    },
    {
      "cell_type": "code",
      "source": [
        "mask_A = A > 10\n",
        "A[mask_A] = -1\n",
        "A"
      ],
      "metadata": {
        "colab": {
          "base_uri": "https://localhost:8080/"
        },
        "id": "91WvLY0HEKA5",
        "outputId": "d63fe79f-6696-4a96-d78f-07872c57bf83"
      },
      "execution_count": null,
      "outputs": [
        {
          "output_type": "execute_result",
          "data": {
            "text/plain": [
              "array([[ 0, -1,  2,  0, -1,  4],\n",
              "       [-1,  5,  0, -1, -1,  6],\n",
              "       [-1, -1, -1,  6,  1,  4],\n",
              "       [ 3,  1,  5, -1,  7,  6],\n",
              "       [ 1, -1,  2,  5,  1, -1]])"
            ]
          },
          "metadata": {},
          "execution_count": 29
        }
      ]
    },
    {
      "cell_type": "code",
      "source": [
        "mask_Ac = (7 < Ac) & (Ac < 15)\n",
        "Ac[mask_Ac] = -1\n",
        "Ac"
      ],
      "metadata": {
        "colab": {
          "base_uri": "https://localhost:8080/"
        },
        "id": "EF4PHicDEWn5",
        "outputId": "f9a745a8-9cac-404b-d03d-f45e75ca50cc"
      },
      "execution_count": null,
      "outputs": [
        {
          "output_type": "execute_result",
          "data": {
            "text/plain": [
              "array([[ 0, 17,  2,  0, -1,  4],\n",
              "       [16,  5,  0, -1, -1,  6],\n",
              "       [18, -1, 15,  6,  1,  4],\n",
              "       [ 3,  1,  5, -1,  7,  6],\n",
              "       [ 1, -1,  2,  5,  1, 19]])"
            ]
          },
          "metadata": {},
          "execution_count": 31
        }
      ]
    },
    {
      "cell_type": "markdown",
      "metadata": {
        "id": "f_Cu_MT2M2As"
      },
      "source": [
        "### Exercício 5)\n",
        "Construa um array `A` com 20 linhas e 10 colunas onde os elementos são os números interios de  1 até 200.\n",
        "- Crie uma __view__ de `A` chamada `A_lpares` contendo apenas as linhas de `A` com índice par.\n",
        "- Crie uma __view__ de `A` chamada `A_lpares_cimpares` contendo as linhas `A` com índice par e colunas com índice ímpar."
      ]
    },
    {
      "cell_type": "code",
      "source": [
        "A = np.arange(1, 201)\n",
        "A = A.reshape(20, 10)\n",
        "A"
      ],
      "metadata": {
        "id": "v3ppRMkAE2Nz",
        "colab": {
          "base_uri": "https://localhost:8080/"
        },
        "outputId": "51b482ec-9b26-4e0a-d888-63f564c72b28"
      },
      "execution_count": null,
      "outputs": [
        {
          "output_type": "execute_result",
          "data": {
            "text/plain": [
              "array([[  1,   2,   3,   4,   5,   6,   7,   8,   9,  10],\n",
              "       [ 11,  12,  13,  14,  15,  16,  17,  18,  19,  20],\n",
              "       [ 21,  22,  23,  24,  25,  26,  27,  28,  29,  30],\n",
              "       [ 31,  32,  33,  34,  35,  36,  37,  38,  39,  40],\n",
              "       [ 41,  42,  43,  44,  45,  46,  47,  48,  49,  50],\n",
              "       [ 51,  52,  53,  54,  55,  56,  57,  58,  59,  60],\n",
              "       [ 61,  62,  63,  64,  65,  66,  67,  68,  69,  70],\n",
              "       [ 71,  72,  73,  74,  75,  76,  77,  78,  79,  80],\n",
              "       [ 81,  82,  83,  84,  85,  86,  87,  88,  89,  90],\n",
              "       [ 91,  92,  93,  94,  95,  96,  97,  98,  99, 100],\n",
              "       [101, 102, 103, 104, 105, 106, 107, 108, 109, 110],\n",
              "       [111, 112, 113, 114, 115, 116, 117, 118, 119, 120],\n",
              "       [121, 122, 123, 124, 125, 126, 127, 128, 129, 130],\n",
              "       [131, 132, 133, 134, 135, 136, 137, 138, 139, 140],\n",
              "       [141, 142, 143, 144, 145, 146, 147, 148, 149, 150],\n",
              "       [151, 152, 153, 154, 155, 156, 157, 158, 159, 160],\n",
              "       [161, 162, 163, 164, 165, 166, 167, 168, 169, 170],\n",
              "       [171, 172, 173, 174, 175, 176, 177, 178, 179, 180],\n",
              "       [181, 182, 183, 184, 185, 186, 187, 188, 189, 190],\n",
              "       [191, 192, 193, 194, 195, 196, 197, 198, 199, 200]])"
            ]
          },
          "metadata": {},
          "execution_count": 40
        }
      ]
    },
    {
      "cell_type": "code",
      "source": [
        "A_lpares = A.copy()\n",
        "A_lpares = A_lpares[np.arange(0, A_lpares.shape[0], 2)] # Linhas pares\n",
        "A_lpares"
      ],
      "metadata": {
        "colab": {
          "base_uri": "https://localhost:8080/"
        },
        "id": "qZBJCt70sHBX",
        "outputId": "27486493-3e74-4705-8660-e7d675075d9e"
      },
      "execution_count": null,
      "outputs": [
        {
          "output_type": "execute_result",
          "data": {
            "text/plain": [
              "array([[  1,   2,   3,   4,   5,   6,   7,   8,   9,  10],\n",
              "       [ 21,  22,  23,  24,  25,  26,  27,  28,  29,  30],\n",
              "       [ 41,  42,  43,  44,  45,  46,  47,  48,  49,  50],\n",
              "       [ 61,  62,  63,  64,  65,  66,  67,  68,  69,  70],\n",
              "       [ 81,  82,  83,  84,  85,  86,  87,  88,  89,  90],\n",
              "       [101, 102, 103, 104, 105, 106, 107, 108, 109, 110],\n",
              "       [121, 122, 123, 124, 125, 126, 127, 128, 129, 130],\n",
              "       [141, 142, 143, 144, 145, 146, 147, 148, 149, 150],\n",
              "       [161, 162, 163, 164, 165, 166, 167, 168, 169, 170],\n",
              "       [181, 182, 183, 184, 185, 186, 187, 188, 189, 190]])"
            ]
          },
          "metadata": {},
          "execution_count": 35
        }
      ]
    },
    {
      "cell_type": "code",
      "source": [
        "A_lpares_cimpares = A.copy()\n",
        "#                                                  linhas pares                                   colunas ímpares\n",
        "A_lpares_cimpares = A_lpares_cimpares[np.arange(0, A_lpares_cimpares.shape[0], 2)][:,np.arange(1, A_lpares_cimpares.shape[1], 2)]\n",
        "A_lpares_cimpares"
      ],
      "metadata": {
        "colab": {
          "base_uri": "https://localhost:8080/"
        },
        "id": "x9segh8UsivI",
        "outputId": "70a49a3d-9f5b-46ed-a5da-f3746009458c"
      },
      "execution_count": null,
      "outputs": [
        {
          "output_type": "execute_result",
          "data": {
            "text/plain": [
              "array([[  2,   4,   6,   8,  10],\n",
              "       [ 22,  24,  26,  28,  30],\n",
              "       [ 42,  44,  46,  48,  50],\n",
              "       [ 62,  64,  66,  68,  70],\n",
              "       [ 82,  84,  86,  88,  90],\n",
              "       [102, 104, 106, 108, 110],\n",
              "       [122, 124, 126, 128, 130],\n",
              "       [142, 144, 146, 148, 150],\n",
              "       [162, 164, 166, 168, 170],\n",
              "       [182, 184, 186, 188, 190]])"
            ]
          },
          "metadata": {},
          "execution_count": 36
        }
      ]
    },
    {
      "cell_type": "markdown",
      "metadata": {
        "id": "O8LUbQ9uM2As"
      },
      "source": [
        "### Exercício 6)\n",
        "Substitua os elementos do array `A` do exercício anterior por -1 quando pelo menos um dos índices do elemento é par.\n",
        "\n",
        "__Dica:__ Construa uma máscara booleana"
      ]
    },
    {
      "cell_type": "code",
      "source": [],
      "metadata": {
        "id": "ZZGzSOxjzVpL"
      },
      "execution_count": null,
      "outputs": []
    },
    {
      "cell_type": "code",
      "source": [
        "mask = [[(i%2==0)or(j%2==0) for j in range(A.shape[1])] for i in range(A.shape[0])]\n",
        "mask"
      ],
      "metadata": {
        "id": "C_lxopeHE3G3",
        "colab": {
          "base_uri": "https://localhost:8080/"
        },
        "outputId": "2ccc3f9d-c4c9-48a1-d222-aba2cd297d32"
      },
      "execution_count": null,
      "outputs": [
        {
          "output_type": "execute_result",
          "data": {
            "text/plain": [
              "[[True, True, True, True, True, True, True, True, True, True],\n",
              " [True, False, True, False, True, False, True, False, True, False],\n",
              " [True, True, True, True, True, True, True, True, True, True],\n",
              " [True, False, True, False, True, False, True, False, True, False],\n",
              " [True, True, True, True, True, True, True, True, True, True],\n",
              " [True, False, True, False, True, False, True, False, True, False],\n",
              " [True, True, True, True, True, True, True, True, True, True],\n",
              " [True, False, True, False, True, False, True, False, True, False],\n",
              " [True, True, True, True, True, True, True, True, True, True],\n",
              " [True, False, True, False, True, False, True, False, True, False],\n",
              " [True, True, True, True, True, True, True, True, True, True],\n",
              " [True, False, True, False, True, False, True, False, True, False],\n",
              " [True, True, True, True, True, True, True, True, True, True],\n",
              " [True, False, True, False, True, False, True, False, True, False],\n",
              " [True, True, True, True, True, True, True, True, True, True],\n",
              " [True, False, True, False, True, False, True, False, True, False],\n",
              " [True, True, True, True, True, True, True, True, True, True],\n",
              " [True, False, True, False, True, False, True, False, True, False],\n",
              " [True, True, True, True, True, True, True, True, True, True],\n",
              " [True, False, True, False, True, False, True, False, True, False]]"
            ]
          },
          "metadata": {},
          "execution_count": 39
        }
      ]
    },
    {
      "cell_type": "code",
      "source": [
        "A[mask] = -1\n",
        "A"
      ],
      "metadata": {
        "colab": {
          "base_uri": "https://localhost:8080/"
        },
        "id": "NZ78sErR0E6f",
        "outputId": "7043424a-d131-423b-8246-f4f24e850f29"
      },
      "execution_count": null,
      "outputs": [
        {
          "output_type": "execute_result",
          "data": {
            "text/plain": [
              "array([[ -1,  -1,  -1,  -1,  -1,  -1,  -1,  -1,  -1,  -1],\n",
              "       [ -1,  12,  -1,  14,  -1,  16,  -1,  18,  -1,  20],\n",
              "       [ -1,  -1,  -1,  -1,  -1,  -1,  -1,  -1,  -1,  -1],\n",
              "       [ -1,  32,  -1,  34,  -1,  36,  -1,  38,  -1,  40],\n",
              "       [ -1,  -1,  -1,  -1,  -1,  -1,  -1,  -1,  -1,  -1],\n",
              "       [ -1,  52,  -1,  54,  -1,  56,  -1,  58,  -1,  60],\n",
              "       [ -1,  -1,  -1,  -1,  -1,  -1,  -1,  -1,  -1,  -1],\n",
              "       [ -1,  72,  -1,  74,  -1,  76,  -1,  78,  -1,  80],\n",
              "       [ -1,  -1,  -1,  -1,  -1,  -1,  -1,  -1,  -1,  -1],\n",
              "       [ -1,  92,  -1,  94,  -1,  96,  -1,  98,  -1, 100],\n",
              "       [ -1,  -1,  -1,  -1,  -1,  -1,  -1,  -1,  -1,  -1],\n",
              "       [ -1, 112,  -1, 114,  -1, 116,  -1, 118,  -1, 120],\n",
              "       [ -1,  -1,  -1,  -1,  -1,  -1,  -1,  -1,  -1,  -1],\n",
              "       [ -1, 132,  -1, 134,  -1, 136,  -1, 138,  -1, 140],\n",
              "       [ -1,  -1,  -1,  -1,  -1,  -1,  -1,  -1,  -1,  -1],\n",
              "       [ -1, 152,  -1, 154,  -1, 156,  -1, 158,  -1, 160],\n",
              "       [ -1,  -1,  -1,  -1,  -1,  -1,  -1,  -1,  -1,  -1],\n",
              "       [ -1, 172,  -1, 174,  -1, 176,  -1, 178,  -1, 180],\n",
              "       [ -1,  -1,  -1,  -1,  -1,  -1,  -1,  -1,  -1,  -1],\n",
              "       [ -1, 192,  -1, 194,  -1, 196,  -1, 198,  -1, 200]])"
            ]
          },
          "metadata": {},
          "execution_count": 41
        }
      ]
    },
    {
      "cell_type": "markdown",
      "metadata": {
        "id": "4IdJeTQZM2At"
      },
      "source": [
        "### Exercício 7)\n",
        "Construa uma função chamada `ordena_linhas` que recebe uma matriz como parâmetro e troque as linhas de posição para que fiquem ordenadas de acordo com a primeira coluna. Por exemplo:\n",
        "```python\n",
        "A = np.array([[20, 26, 12],\n",
        "              [8, 3, 26],\n",
        "              [3, 10, 4]])\n",
        "print(ordena_linhas(A))\n",
        "```\n",
        "deve resultar em\n",
        "```python\n",
        "[[ 3 10  4]\n",
        " [ 8  3 26]\n",
        " [20 26 12]]\n",
        "```"
      ]
    },
    {
      "cell_type": "code",
      "source": [
        "def ordena_linhas(matx:np.array) -> np.array:\n",
        "  '''\n",
        "  Recebe uma Matriz bidimensional matx e\n",
        "  a ordena usando o algoritmo bubble sort.\n",
        "  Sendo o índice o elemento da primeira\n",
        "  coluna de cada linha.\n",
        "  '''\n",
        "  for i in range(matx.shape[0]):\n",
        "    for j in range(i, matx.shape[1]):\n",
        "      if matx[i][0] > matx[j][0]:\n",
        "        temp = matx[i][0]\n",
        "        matx[i][0] = matx[j][0]\n",
        "        matx[j][0] = temp\n",
        "\n",
        "  return matx"
      ],
      "metadata": {
        "id": "5cOsY59YE3-g"
      },
      "execution_count": null,
      "outputs": []
    },
    {
      "cell_type": "code",
      "source": [
        "matx = np.array([[20, 26, 12],\n",
        "                 [ 8,  3, 26],\n",
        "                 [ 3,  10, 4]])\n",
        "ordena_linhas(matx)"
      ],
      "metadata": {
        "id": "ekXXydJiE38w",
        "colab": {
          "base_uri": "https://localhost:8080/"
        },
        "outputId": "c3683a4d-ef14-4c89-a4fd-93ff47f59e34"
      },
      "execution_count": null,
      "outputs": [
        {
          "output_type": "execute_result",
          "data": {
            "text/plain": [
              "array([[ 3, 26, 12],\n",
              "       [ 8,  3, 26],\n",
              "       [20, 10,  4]])"
            ]
          },
          "metadata": {},
          "execution_count": 46
        }
      ]
    },
    {
      "cell_type": "markdown",
      "metadata": {
        "id": "PBc3DqeNM2At"
      },
      "source": [
        "## Links, Artigos e Referências:"
      ]
    },
    {
      "cell_type": "markdown",
      "metadata": {
        "id": "E1DWxpxlM2At"
      },
      "source": [
        "- [Documentação do Numpy](https://numpy.org/doc/), documentação onde vocês podem encontrar mais informações sobre os métodos e funções do NumPy e descobrir novos métodos que não foram apresentados no curso;\n",
        "- [\"5 Smart Numpy Functions\",](https://towardsdatascience.com/5-smart-python-numpy-functions-dfd1072d2cb4) artigo escrito pelo Towards Data Science;\n",
        "- [\"Writing beautiful code with NumPy\"](https://medium.com/@zachary.bedell/writing-beautiful-code-with-numpy-505f3b353174), artigo escrito por Zach Bedell;"
      ]
    }
  ],
  "metadata": {
    "kernelspec": {
      "display_name": "Python 3 (ipykernel)",
      "language": "python",
      "name": "python3"
    },
    "language_info": {
      "codemirror_mode": {
        "name": "ipython",
        "version": 3
      },
      "file_extension": ".py",
      "mimetype": "text/x-python",
      "name": "python",
      "nbconvert_exporter": "python",
      "pygments_lexer": "ipython3",
      "version": "3.9.13"
    },
    "colab": {
      "provenance": []
    }
  },
  "nbformat": 4,
  "nbformat_minor": 0
}