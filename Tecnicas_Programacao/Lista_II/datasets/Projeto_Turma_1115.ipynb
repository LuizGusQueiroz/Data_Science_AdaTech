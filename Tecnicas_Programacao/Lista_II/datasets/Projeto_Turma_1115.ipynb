{
  "cells": [
    {
      "cell_type": "markdown",
      "id": "3eb16edd",
      "metadata": {
        "id": "3eb16edd"
      },
      "source": [
        "# Projeto - Análise Exploratória dos Dados\n",
        "\n",
        "## Objetivos\n",
        "\n",
        "A partir de um conjunto de dados (escolhido por vocÊs ou por sugestão do professor), o objetivo será desenvolver uma análise exploratória dos dados. Para isto segue alguns dos pontos cruciais para o desenvolvimento do projeto:\n",
        "\n",
        "<br>\n",
        "\n",
        "- __Definição do Conjunto de Dados:__ Determinar qual conjunto de dados deve ser analisado e se o conjunto de dados atende as espectativas para o projeto;\n",
        "\n",
        "<br>\n",
        "\n",
        "- __Análise de Consistência dos Dados__: Verificar se o conjunto de dados tem algum eventual problema (podendo ser dados faltantes, dados erroneos entre outros casos);\n",
        "\n",
        "<br>\n",
        "\n",
        "- __Análise Exploratória dos Dados__: Consiste em estudar o conjunto de dados! Então seria entender quais tipos de informações que pode-se obter, quais conclusões e/ou interpretações pode-se tirar dos dados (neste caso, gráfico para auxiliar nas análises são bem vindos(.\n",
        "\n",
        "<br>\n",
        "\n",
        "__Observações.:__ Este projeto pode ser feito individualmente ou em grupos de no máximo 3 pessoas;\n",
        "\n",
        "__Data de Entrega:__ 23/02/2024"
      ]
    },
    {
      "cell_type": "markdown",
      "id": "32d219f7",
      "metadata": {
        "id": "32d219f7"
      },
      "source": [
        "##"
      ]
    }
  ],
  "metadata": {
    "kernelspec": {
      "display_name": "Python 3 (ipykernel)",
      "language": "python",
      "name": "python3"
    },
    "language_info": {
      "codemirror_mode": {
        "name": "ipython",
        "version": 3
      },
      "file_extension": ".py",
      "mimetype": "text/x-python",
      "name": "python",
      "nbconvert_exporter": "python",
      "pygments_lexer": "ipython3",
      "version": "3.9.13"
    },
    "colab": {
      "provenance": []
    }
  },
  "nbformat": 4,
  "nbformat_minor": 5
}