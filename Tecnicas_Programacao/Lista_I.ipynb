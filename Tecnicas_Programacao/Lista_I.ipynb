{
  "cells": [
    {
      "cell_type": "markdown",
      "id": "03019251",
      "metadata": {
        "id": "03019251"
      },
      "source": [
        "# Lista 1 - NumPy\n",
        "\n",
        "## Exercícios\n",
        "\n",
        "Para a resolução dos exercícios abaixo, utilize todas as ferramentas e métodos do NumPy aprendidos em aula e existe algumas outras métodos que podem ser úteis na documentação [_NumPy Documentation_](https://numpy.org/doc/). Durante a correção, não será considerado exercícios que não utilizar a ferramenta (muitos deles da pra responder apenas com Python, mas não é esse o intuito da lista).\n",
        "\n",
        "__Funcionamento dos Exercícios:__ todos os exercícios são do estilo onde será preciso criar uma função para resolver a proposta do enunciado. Será avaliado apenas a função, mas sugiro que crie casos de testes para avaliar se a função está operando corretamente.\n",
        "\n",
        "__Avaliação e Entrega:__ São 5 exercícios que valem 10 pontos, e a entrega vai ser na forma de um notebook através da tarefa criada no LMS.\n",
        "\n",
        "__Data Limite para Entrega:__ Próxima aula 19/02\n",
        "\n",
        "\n",
        "### 1) Restaurantes Mais Próximos\n",
        "\n",
        "Perto da casa de João existem vários restaurantes que entregam comida e João deseja fazer um pedido, mas ele tem um compromisso marcado e não pode esperar muito tempo. Então João quer saber qual é o restaurante mais próximo da residencial dele utilizando da distância Euclidiana, cuja a fórmula é dado pela equação a seguir:\n",
        "\n",
        "<img align=\"center\" src=\"https://i.upmath.me/svg/%20d(A%2C%20B)%20%3D%20%5Csqrt%7B(x_%7BA%2C%201%7D%20-%20x_%7BB%2C%201%7D)%5E%7B2%7D%20%2B%20(x_%7BA%2C%202%7D%20-%20x_%7BB%2C%202%7D)%5E%7B2%7D%20%2B%20...%20%2B%20(x_%7BA%2C%20n%7D%20-%20x_%7BB%2C%20n%7D)%5E%7B2%7D%7D\" alt=\" d(A, B) = \\sqrt{(x_{A, 1} - x_{B, 1})^{2} + (x_{A, 2} - x_{B, 2})^{2} + ... + (x_{A, n} - x_{B, n})^{2}}\" />\n",
        "\n",
        "Desenvolva uma função chamada `restaurante_mais_proximo` que irá receber como parâmetros respectivamente __uma lista de coordenadas da casa do João__ e __uma lista com 4 listas com as coordenadas dos restaurantes a verificar__ e o retorno da função deve ser __o número referente ao restaurante mais próximo__. Importante ressaltar que o número do restaurante começa pelo 1 e que em caso de empate, deve-se indicar __o primeiro restaurante a apresentar a menor distância__."
      ]
    },
    {
      "cell_type": "code",
      "execution_count": null,
      "id": "0c6cfde0",
      "metadata": {
        "id": "0c6cfde0"
      },
      "outputs": [],
      "source": [
        "import numpy as np"
      ]
    },
    {
      "cell_type": "code",
      "source": [
        "def restaurantes_mais_proximos(casa:list[float], restaurantes:list[list[float]]) -> int:\n",
        "  '''\n",
        "  Retorna uma lista com as coordenadas da casa e uma lista\n",
        "  com as coordenadas de n restaurantes e retorna o índice(começando em 1)\n",
        "  do restaurante com a menor distância.\n",
        "  '''\n",
        "  # Converte as variáveis para arrays\n",
        "  casa = np.array(casa)\n",
        "  restaurantes = np.array(restaurantes)\n",
        "  # Calcula as distâncias\n",
        "  #           yi = (Xai - Xbi)²\n",
        "  dists = (casa-restaurantes)**2\n",
        "  #                    √(sum(yi))\n",
        "  dists = np.array([(row.sum())**0.5 for row in dists])\n",
        "  # Encontra o índice do menos distante\n",
        "  menor_dist = dists.min()\n",
        "  for i,dist in enumerate(dists, start=1):\n",
        "    if dist == menor_dist:\n",
        "      # Retorna o índice do primeiro encontrado\n",
        "      return i"
      ],
      "metadata": {
        "id": "QnE7m2WYEDrB"
      },
      "id": "QnE7m2WYEDrB",
      "execution_count": null,
      "outputs": []
    },
    {
      "cell_type": "code",
      "source": [
        "# Exemplo 1\n",
        "restaurantes = [[1, 3, 5], [2, 4, 0], [3, 3, 3], [1, 6, 6]]\n",
        "joao = [0, 1, 2]\n",
        "# Resultado = 1\n",
        "restaurantes_mais_proximos(joao, restaurantes)"
      ],
      "metadata": {
        "colab": {
          "base_uri": "https://localhost:8080/"
        },
        "id": "qNTpSxvmIfnL",
        "outputId": "1db2c22c-98ac-4db1-9fbe-919b105e8261"
      },
      "id": "qNTpSxvmIfnL",
      "execution_count": null,
      "outputs": [
        {
          "output_type": "execute_result",
          "data": {
            "text/plain": [
              "1"
            ]
          },
          "metadata": {},
          "execution_count": 74
        }
      ]
    },
    {
      "cell_type": "code",
      "execution_count": null,
      "id": "a4230cce",
      "metadata": {
        "id": "a4230cce",
        "colab": {
          "base_uri": "https://localhost:8080/"
        },
        "outputId": "fafe953d-1237-4ded-b1bb-d342b2c05708"
      },
      "outputs": [
        {
          "output_type": "stream",
          "name": "stdout",
          "text": [
            "2\n"
          ]
        }
      ],
      "source": [
        "# Exemplo 2\n",
        "restaurantes = [\n",
        "       [0.86617615, 0.60111501, 0.70807258, 0.02058449, 0.96990985, 0.83244264, 0.21233911],\n",
        "       [0.18182497, 0.18340451, 0.30424224, 0.52475643, 0.43194502, 0.29122914, 0.61185289],\n",
        "       [0.13949386, 0.29214465, 0.36636184, 0.45606998, 0.78517596, 0.19967378, 0.51423444],\n",
        "       [0.59241457, 0.04645041, 0.60754485, 0.17052412, 0.06505159, 0.94888554, 0.96563203]]\n",
        "joao = [0.37454012, 0.95071431, 0.73199394, 0.59865848, 0.15601864, 0.15599452, 0.05808361]\n",
        "# Resultado = 2\n",
        "print(restaurantes_mais_proximos(joao, restaurantes))"
      ]
    },
    {
      "cell_type": "markdown",
      "id": "c4acd507",
      "metadata": {
        "id": "c4acd507"
      },
      "source": [
        "## 2) Ordenando pelo MMC\n",
        "\n",
        "O Mínimo Múltiplo Comum (MMC) de dois ou mais números é definido pelo múltiplo comum corresponde a todos os números observados. Por exemplo o MMC entre 6 e 10 é o 30 devido aos número 2, 3 e 5. O objetivo deste exercício, além de calcular o MMC será ordenar a lista utilizando o MMC. Portanto desenvolva a função `ordenar_mmc` onde como entrada irá receber uma lista de números e um número a parte de referência. A função deve calcular O MMC de cada um dos números da lista em relação ao de referência e em seguida ordenar os números originais de acordo com o MMC do menor valor para o maior, como o exemplo a seguir:\n",
        "\n",
        "```python\n",
        "# lista de entrada\n",
        "lista = [12, 8, 10]\n",
        "\n",
        "# numero de referência\n",
        "ref = 4\n",
        "\n",
        "# utilizando a função\n",
        "print(ordenar_mmc(lista, ref))\n",
        "\n",
        "# Resultado da função, pois o mmcs = [12, 8, 20]\n",
        "[8, 12, 10]\n",
        "```"
      ]
    },
    {
      "cell_type": "code",
      "source": [
        "ordenar_pelo_mmc([12, 8, 10], 4)"
      ],
      "metadata": {
        "colab": {
          "base_uri": "https://localhost:8080/"
        },
        "id": "GPTw_EEGrML_",
        "outputId": "dfdffbc4-e5e2-4279-b330-390b3cb5953d"
      },
      "id": "GPTw_EEGrML_",
      "execution_count": null,
      "outputs": [
        {
          "output_type": "execute_result",
          "data": {
            "text/plain": [
              "array([ 8, 12, 10])"
            ]
          },
          "metadata": {},
          "execution_count": 48
        }
      ]
    },
    {
      "cell_type": "code",
      "execution_count": null,
      "id": "092c27f2",
      "metadata": {
        "id": "092c27f2"
      },
      "outputs": [],
      "source": [
        "def ordenar_mmc(numeros:list[int], num_ref:int) -> np.array:\n",
        "  '''\n",
        "  Retorna um array que é uma permutação da lista\n",
        "  'numeros' recebida, sendo esta lista ordenada pelo\n",
        "  mmc entre cada item e o 'num_ref'.\n",
        "  '''\n",
        "  # Converte a lista para um array\n",
        "  numeros = np.array(numeros)\n",
        "  # Usa a função map para criar uma lista com os mmcs\n",
        "  mmcs_map = map(calcula_mmc, numeros, [num_ref]*len(numeros))\n",
        "  mmcs_list = list(mmcs_map)\n",
        "  # COnverte a lista de mmcs para array\n",
        "  mmcs_array = np.array(mmcs_list)\n",
        "  # Guarda os índices da ordenação\n",
        "  indices = np.argsort(mmcs_array)\n",
        "  # Usa os índices para ordenar o array de números\n",
        "  sorted_nums = numeros[indices]\n",
        "\n",
        "  return sorted_nums"
      ]
    },
    {
      "cell_type": "code",
      "source": [
        "def calcula_mmc(num1, num2):\n",
        "  mmc = 1\n",
        "  for i in range(2, max(num1, num2)+1):\n",
        "    while num1%i==0 or num2%i==0:\n",
        "      if num1%i==0 and num2%i==0:\n",
        "        num1 /= i\n",
        "        num2 /= i\n",
        "      elif num1%i==0:\n",
        "        num1 /= i\n",
        "      else:\n",
        "        num2 /= i\n",
        "      mmc *= i\n",
        "  return mmc"
      ],
      "metadata": {
        "id": "XHl5rVRild_v"
      },
      "id": "XHl5rVRild_v",
      "execution_count": null,
      "outputs": []
    },
    {
      "cell_type": "code",
      "execution_count": null,
      "id": "4a02fe11",
      "metadata": {
        "id": "4a02fe11",
        "colab": {
          "base_uri": "https://localhost:8080/"
        },
        "outputId": "9afac7e6-503d-4d6a-c555-374d535b5a6c"
      },
      "outputs": [
        {
          "output_type": "stream",
          "name": "stdout",
          "text": [
            "[ 20  25  50  12  14 100  23]\n"
          ]
        }
      ],
      "source": [
        "#Exemplos\n",
        "# Exemplo 1\n",
        "lista = [12, 20, 14, 25, 100, 50, 23]\n",
        "ref = 5\n",
        "# Resposta\n",
        "#[20, 25, 50, 12, 14, 100, 23]\n",
        "print(ordenar_mmc(lista, ref))"
      ]
    },
    {
      "cell_type": "code",
      "source": [
        "# Exemplo 2\n",
        "lista = [7, 16, 22, 81, 9, 42, 11, 2]\n",
        "ref = 8\n",
        "# Resposta\n",
        "#[2, 16, 7, 9, 22, 11, 42, 81]\n",
        "print(ordenar_mmc(lista, ref))"
      ],
      "metadata": {
        "colab": {
          "base_uri": "https://localhost:8080/"
        },
        "id": "KcmlU1y-tlSI",
        "outputId": "bd755876-9ecd-402d-f253-5c181f5d388b"
      },
      "id": "KcmlU1y-tlSI",
      "execution_count": null,
      "outputs": [
        {
          "output_type": "stream",
          "name": "stdout",
          "text": [
            "[ 2 16  7  9 22 11 42 81]\n"
          ]
        }
      ]
    },
    {
      "cell_type": "markdown",
      "id": "76d5dd27",
      "metadata": {
        "id": "76d5dd27"
      },
      "source": [
        "### 3) Normalização ou Z-Score\n",
        "\n",
        "A normalização (também conhecido como Z-Score) é uma ferramenta muito importante da estatística onde para um conjunto de dados, calcula-se quais serão os respectivos valores se aquele conjunto de dados seguir uma dstribuição normal. O objetivo deste exercício será desenvolver a função `z_score`, onde dado uma lista de entrada com um conjunto de dados quaisquer, devolve a lista com os respectivos Z-Scores dos dados, seguindo a função $z = \\frac{x - \\mu}{\\sigma}$, onde $\\mu$ é a média do conjunto de dados e $\\sigma$ é o desvio padrão do mesmo (arredonde os valores para 4 casas decimais)."
      ]
    },
    {
      "cell_type": "code",
      "execution_count": null,
      "id": "32940c8a",
      "metadata": {
        "id": "32940c8a"
      },
      "outputs": [],
      "source": [
        "def z_score(data:list[float]) -> np.array:\n",
        "  '''\n",
        "  Recebe uma lista numérica e retorna uma lista\n",
        "  com os valores da lista original com a filtro\n",
        "  zscore.\n",
        "  '''\n",
        "  # Converte para um array\n",
        "  data = np.array(data)\n",
        "  # Cálculo da média\n",
        "  media = data.mean()\n",
        "  # Cálculo do desvio padrão\n",
        "  std = data.std()\n",
        "  # Conversão para z-score\n",
        "  z_score_data = (data-media)/std\n",
        "  # Arredonda os valores\n",
        "  z_score_data = np.round(z_score_data, 4)\n",
        "\n",
        "  return z_score_data"
      ]
    },
    {
      "cell_type": "code",
      "source": [
        "# Exemplo 1\n",
        "lista = [4, 6, 7, 8, 9]\n",
        "#z_score = [-1.6275, -0.465, 0.1162, 0.6975, 1.2787]\n",
        "z_score(lista)"
      ],
      "metadata": {
        "colab": {
          "base_uri": "https://localhost:8080/"
        },
        "id": "qM3_5aCLCZGU",
        "outputId": "8b681ef8-ab87-4fb0-aa4c-1399dcd01967"
      },
      "id": "qM3_5aCLCZGU",
      "execution_count": null,
      "outputs": [
        {
          "output_type": "execute_result",
          "data": {
            "text/plain": [
              "array([-1.6275, -0.465 ,  0.1162,  0.6975,  1.2787])"
            ]
          },
          "metadata": {},
          "execution_count": 36
        }
      ]
    },
    {
      "cell_type": "code",
      "execution_count": null,
      "id": "7427e5d9",
      "metadata": {
        "id": "7427e5d9",
        "colab": {
          "base_uri": "https://localhost:8080/"
        },
        "outputId": "03d50a97-0f31-4b1b-c6f0-7790e66a0bab"
      },
      "outputs": [
        {
          "output_type": "execute_result",
          "data": {
            "text/plain": [
              "array([ 0.1997, -0.8994, -0.7461, -0.577 ,  2.5671, -0.4766, -0.5189,\n",
              "        0.205 ,  0.8656, -0.6193])"
            ]
          },
          "metadata": {},
          "execution_count": 37
        }
      ],
      "source": [
        "# Exemplo 2\n",
        "lista = [33.1, 12.3, 15.2, 18.4, 77.9, 20.3, 19.5, 33.2, 45.7, 17.6]\n",
        "#z_score = [0.1997, -0.8994, -0.7461, -0.577, 2.5671, -0.4766, -0.5189, 0.205, 0.8656, -0.6193]\n",
        "z_score(lista)"
      ]
    },
    {
      "cell_type": "markdown",
      "id": "8a0e5aa1",
      "metadata": {
        "id": "8a0e5aa1"
      },
      "source": [
        "### 4) Escalonamento MinMaxScaler\n",
        "\n",
        "De forma anáçoga a normalização, o MinMaxScaler altera a escala a ser utilizada em um conjunto de dados, onde busca-se os valores máximo e mínimo de um conjunto de dados para depois transformar em uma escala que varia entre esses valores. O objetivo deste exercício será desenvolver uma função chamada `minmaxscaler` que irá receber como entrada um conjunto de dados e de saída será uma lista com os valores na nova escala seguindo a função $y = \\frac{x - min}{max - min}$ (arredonde para 4 casas decimais)."
      ]
    },
    {
      "cell_type": "code",
      "execution_count": null,
      "id": "7e05a653",
      "metadata": {
        "id": "7e05a653"
      },
      "outputs": [],
      "source": [
        "def minmaxscaler(data:list[float]) -> np.array:\n",
        "  '''\n",
        "  Recebe uma lista numérica e retorna uma lista\n",
        "  com os valores da lista original com a filtro\n",
        "  minmaxscaler.\n",
        "  '''\n",
        "  # Converte a lista para um np.array\n",
        "  data = np.array(data)\n",
        "  # Calcula o mínimo e o máximo\n",
        "  minimo = data.min()\n",
        "  maximo = data.max()\n",
        "  # Converte para minmaxscaler\n",
        "  minmaxscaler_data = (data-minimo)/(maximo-minimo)\n",
        "  # Arredonda com 4 casa decimais\n",
        "  minmaxscaler_data = np.round(minmaxscaler_data, 4)\n",
        "\n",
        "  return minmaxscaler_data"
      ]
    },
    {
      "cell_type": "code",
      "source": [
        "# Exemplo 1\n",
        "lista = [4, 6, 7, 8, 9]\n",
        "#y_score = [0.0, 0.4, 0.6, 0.8, 1.0] # Resposta\n",
        "print(minmaxscaler(lista))"
      ],
      "metadata": {
        "colab": {
          "base_uri": "https://localhost:8080/"
        },
        "id": "ZF7gHCMnInFz",
        "outputId": "a8f13f3e-e8e7-4cf4-db08-0dba9032e2ee"
      },
      "id": "ZF7gHCMnInFz",
      "execution_count": null,
      "outputs": [
        {
          "output_type": "stream",
          "name": "stdout",
          "text": [
            "[0.  0.4 0.6 0.8 1. ]\n"
          ]
        }
      ]
    },
    {
      "cell_type": "code",
      "execution_count": null,
      "id": "f7b95838",
      "metadata": {
        "id": "f7b95838",
        "colab": {
          "base_uri": "https://localhost:8080/"
        },
        "outputId": "2ecd4964-19dc-48d3-a12d-99ebf67a12a3"
      },
      "outputs": [
        {
          "output_type": "stream",
          "name": "stdout",
          "text": [
            "[0.3171 0.     0.0442 0.093  1.     0.122  0.1098 0.3186 0.5091 0.0808]\n"
          ]
        }
      ],
      "source": [
        "# Exemplo 2\n",
        "lista = [33.1, 12.3, 15.2, 18.4, 77.9, 20.3, 19.5, 33.2, 45.7, 17.6]\n",
        "#y_score = [0.317, 0.0, 0.044, 0.093, 1.0, 0.122, 0.11, 0.319, 0.509, 0.081] # Resposta\n",
        "print(minmaxscaler(lista))"
      ]
    },
    {
      "cell_type": "markdown",
      "id": "d162de14",
      "metadata": {
        "id": "d162de14"
      },
      "source": [
        "### 5) Matching entre Vetores\n",
        "\n",
        "No contexto de Machine Learning, um processo bem comum é de comparar respostas entre vetores para entender o quão acertivo foi um determinado modelo. Dado um contexto, desenvolva a função `vector_matching` que verifica posição a posição destes vetores, que valores de zeros e uns foram acertados. Para esta função têm-se como entrada __dois vetores de dimensões iguais__ preenchidos com 0 ou 1 e a saída da função será o percentual de acerto entre os vetores (arredonde o percentual para 1 casa decimal)."
      ]
    },
    {
      "cell_type": "code",
      "execution_count": null,
      "id": "500170b0",
      "metadata": {
        "id": "500170b0"
      },
      "outputs": [],
      "source": [
        "def vector_matching(v1:list[int], v2:list[int]) -> float:\n",
        "  '''\n",
        "  Recebe duas listas e retorna a proporção em\n",
        "  que os valores das duas listas são iguais.\n",
        "  '''\n",
        "  # Converte as listas para np.array\n",
        "  v1 = np.array(v1)\n",
        "  v2 = np.array(v2)\n",
        "  # Cria uma máscara que compara os arrays\n",
        "  mask = v1 == v2\n",
        "  # Cria um array de zeros calcular os acertos\n",
        "  acertos = np.zeros(mask.shape[0])\n",
        "  # Adiciona 1 para onde foi igual\n",
        "  acertos[mask] = 1\n",
        "  # Calcula a proporção de acertos, dividindo\n",
        "  # o total de uns pelo tamanho do array\n",
        "  prop = acertos.sum()/acertos.shape[0]\n",
        "  # Arredonda a proporção\n",
        "  prop = round(prop, 3)\n",
        "\n",
        "  return prop"
      ]
    },
    {
      "cell_type": "code",
      "execution_count": null,
      "id": "d7a23f36",
      "metadata": {
        "id": "d7a23f36",
        "colab": {
          "base_uri": "https://localhost:8080/"
        },
        "outputId": "0d65cf3b-51dd-41a2-e9c1-11757d07a7ce"
      },
      "outputs": [
        {
          "output_type": "stream",
          "name": "stdout",
          "text": [
            "50.0%\n"
          ]
        }
      ],
      "source": [
        "#Exemplos\n",
        "#Exemplo 1\n",
        "v1 = [0, 0, 0, 1, 1, 1, 1, 0]\n",
        "v2 = [1, 0, 0, 1, 1, 0, 0, 1]\n",
        "# Resposta = 50.0%\n",
        "\n",
        "prop = vector_matching(v1, v2)\n",
        "print(f'{round(prop*100, 3)}%')"
      ]
    },
    {
      "cell_type": "code",
      "source": [
        "#Exemplo 2\n",
        "v1 = [1, 1, 0, 0, 1, 1, 1, 1, 1, 1, 0, 1, 1, 0, 0, 0, 1]\n",
        "v2 = [1, 1, 1, 1, 1, 0, 0, 0, 1, 1, 0, 0, 0, 1, 0, 0, 0]\n",
        "# Resposta = 47.1%\n",
        "\n",
        "prop = vector_matching(v1, v2)\n",
        "print(f'{round(prop*100, 3)}%')"
      ],
      "metadata": {
        "colab": {
          "base_uri": "https://localhost:8080/"
        },
        "id": "uNW4DwrRKTQI",
        "outputId": "4b9b62fc-529f-4a3a-beed-7b9a6fde789e"
      },
      "id": "uNW4DwrRKTQI",
      "execution_count": null,
      "outputs": [
        {
          "output_type": "stream",
          "name": "stdout",
          "text": [
            "47.1%\n"
          ]
        }
      ]
    }
  ],
  "metadata": {
    "kernelspec": {
      "display_name": "Python 3 (ipykernel)",
      "language": "python",
      "name": "python3"
    },
    "language_info": {
      "codemirror_mode": {
        "name": "ipython",
        "version": 3
      },
      "file_extension": ".py",
      "mimetype": "text/x-python",
      "name": "python",
      "nbconvert_exporter": "python",
      "pygments_lexer": "ipython3",
      "version": "3.9.13"
    },
    "colab": {
      "provenance": []
    }
  },
  "nbformat": 4,
  "nbformat_minor": 5
}